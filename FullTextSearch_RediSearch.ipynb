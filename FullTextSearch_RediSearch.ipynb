{
  "nbformat": 4,
  "nbformat_minor": 0,
  "metadata": {
    "colab": {
      "name": "全文検索_RediSearch.ipynb",
      "provenance": [],
      "collapsed_sections": [
        "rr8_1pqmMHal"
      ]
    },
    "kernelspec": {
      "name": "python3",
      "display_name": "Python 3"
    },
    "language_info": {
      "name": "python"
    },
    "widgets": {
      "application/vnd.jupyter.widget-state+json": {
        "d1f7e5476a574e0bbe9a9b15216df2c4": {
          "model_module": "@jupyter-widgets/controls",
          "model_name": "HBoxModel",
          "model_module_version": "1.5.0",
          "state": {
            "_dom_classes": [],
            "_model_module": "@jupyter-widgets/controls",
            "_model_module_version": "1.5.0",
            "_model_name": "HBoxModel",
            "_view_count": null,
            "_view_module": "@jupyter-widgets/controls",
            "_view_module_version": "1.5.0",
            "_view_name": "HBoxView",
            "box_style": "",
            "children": [
              "IPY_MODEL_ad8876fec2f4458db3205807ff7731cc",
              "IPY_MODEL_012902fc53474ec6ba5e901c31d23b41",
              "IPY_MODEL_1b5530a362594e03968663aacab21a19"
            ],
            "layout": "IPY_MODEL_a7a078c9892148f7a1ccf9e2ee726809"
          }
        },
        "ad8876fec2f4458db3205807ff7731cc": {
          "model_module": "@jupyter-widgets/controls",
          "model_name": "HTMLModel",
          "model_module_version": "1.5.0",
          "state": {
            "_dom_classes": [],
            "_model_module": "@jupyter-widgets/controls",
            "_model_module_version": "1.5.0",
            "_model_name": "HTMLModel",
            "_view_count": null,
            "_view_module": "@jupyter-widgets/controls",
            "_view_module_version": "1.5.0",
            "_view_name": "HTMLView",
            "description": "",
            "description_tooltip": null,
            "layout": "IPY_MODEL_0034538916654d9084a3868c05f43447",
            "placeholder": "​",
            "style": "IPY_MODEL_7ddc89cef6a84f7a8ec230e1546663c3",
            "value": ""
          }
        },
        "012902fc53474ec6ba5e901c31d23b41": {
          "model_module": "@jupyter-widgets/controls",
          "model_name": "FloatProgressModel",
          "model_module_version": "1.5.0",
          "state": {
            "_dom_classes": [],
            "_model_module": "@jupyter-widgets/controls",
            "_model_module_version": "1.5.0",
            "_model_name": "FloatProgressModel",
            "_view_count": null,
            "_view_module": "@jupyter-widgets/controls",
            "_view_module_version": "1.5.0",
            "_view_name": "ProgressView",
            "bar_style": "danger",
            "description": "",
            "description_tooltip": null,
            "layout": "IPY_MODEL_13afd3f17cce46d98724feda265b5d81",
            "max": 750000,
            "min": 0,
            "orientation": "horizontal",
            "style": "IPY_MODEL_6c6fd2ac97a749c59b1a0c54fd02030f",
            "value": 750000
          }
        },
        "1b5530a362594e03968663aacab21a19": {
          "model_module": "@jupyter-widgets/controls",
          "model_name": "HTMLModel",
          "model_module_version": "1.5.0",
          "state": {
            "_dom_classes": [],
            "_model_module": "@jupyter-widgets/controls",
            "_model_module_version": "1.5.0",
            "_model_name": "HTMLModel",
            "_view_count": null,
            "_view_module": "@jupyter-widgets/controls",
            "_view_module_version": "1.5.0",
            "_view_name": "HTMLView",
            "description": "",
            "description_tooltip": null,
            "layout": "IPY_MODEL_b39eed2085ef4808b1631547f206282b",
            "placeholder": "​",
            "style": "IPY_MODEL_10c4aea7f7274fa4887ded2868c03f3a",
            "value": " 779788/? [16:40&lt;00:00, 1181.69it/s]"
          }
        },
        "a7a078c9892148f7a1ccf9e2ee726809": {
          "model_module": "@jupyter-widgets/base",
          "model_name": "LayoutModel",
          "model_module_version": "1.2.0",
          "state": {
            "_model_module": "@jupyter-widgets/base",
            "_model_module_version": "1.2.0",
            "_model_name": "LayoutModel",
            "_view_count": null,
            "_view_module": "@jupyter-widgets/base",
            "_view_module_version": "1.2.0",
            "_view_name": "LayoutView",
            "align_content": null,
            "align_items": null,
            "align_self": null,
            "border": null,
            "bottom": null,
            "display": null,
            "flex": null,
            "flex_flow": null,
            "grid_area": null,
            "grid_auto_columns": null,
            "grid_auto_flow": null,
            "grid_auto_rows": null,
            "grid_column": null,
            "grid_gap": null,
            "grid_row": null,
            "grid_template_areas": null,
            "grid_template_columns": null,
            "grid_template_rows": null,
            "height": null,
            "justify_content": null,
            "justify_items": null,
            "left": null,
            "margin": null,
            "max_height": null,
            "max_width": null,
            "min_height": null,
            "min_width": null,
            "object_fit": null,
            "object_position": null,
            "order": null,
            "overflow": null,
            "overflow_x": null,
            "overflow_y": null,
            "padding": null,
            "right": null,
            "top": null,
            "visibility": null,
            "width": null
          }
        },
        "0034538916654d9084a3868c05f43447": {
          "model_module": "@jupyter-widgets/base",
          "model_name": "LayoutModel",
          "model_module_version": "1.2.0",
          "state": {
            "_model_module": "@jupyter-widgets/base",
            "_model_module_version": "1.2.0",
            "_model_name": "LayoutModel",
            "_view_count": null,
            "_view_module": "@jupyter-widgets/base",
            "_view_module_version": "1.2.0",
            "_view_name": "LayoutView",
            "align_content": null,
            "align_items": null,
            "align_self": null,
            "border": null,
            "bottom": null,
            "display": null,
            "flex": null,
            "flex_flow": null,
            "grid_area": null,
            "grid_auto_columns": null,
            "grid_auto_flow": null,
            "grid_auto_rows": null,
            "grid_column": null,
            "grid_gap": null,
            "grid_row": null,
            "grid_template_areas": null,
            "grid_template_columns": null,
            "grid_template_rows": null,
            "height": null,
            "justify_content": null,
            "justify_items": null,
            "left": null,
            "margin": null,
            "max_height": null,
            "max_width": null,
            "min_height": null,
            "min_width": null,
            "object_fit": null,
            "object_position": null,
            "order": null,
            "overflow": null,
            "overflow_x": null,
            "overflow_y": null,
            "padding": null,
            "right": null,
            "top": null,
            "visibility": null,
            "width": null
          }
        },
        "7ddc89cef6a84f7a8ec230e1546663c3": {
          "model_module": "@jupyter-widgets/controls",
          "model_name": "DescriptionStyleModel",
          "model_module_version": "1.5.0",
          "state": {
            "_model_module": "@jupyter-widgets/controls",
            "_model_module_version": "1.5.0",
            "_model_name": "DescriptionStyleModel",
            "_view_count": null,
            "_view_module": "@jupyter-widgets/base",
            "_view_module_version": "1.2.0",
            "_view_name": "StyleView",
            "description_width": ""
          }
        },
        "13afd3f17cce46d98724feda265b5d81": {
          "model_module": "@jupyter-widgets/base",
          "model_name": "LayoutModel",
          "model_module_version": "1.2.0",
          "state": {
            "_model_module": "@jupyter-widgets/base",
            "_model_module_version": "1.2.0",
            "_model_name": "LayoutModel",
            "_view_count": null,
            "_view_module": "@jupyter-widgets/base",
            "_view_module_version": "1.2.0",
            "_view_name": "LayoutView",
            "align_content": null,
            "align_items": null,
            "align_self": null,
            "border": null,
            "bottom": null,
            "display": null,
            "flex": null,
            "flex_flow": null,
            "grid_area": null,
            "grid_auto_columns": null,
            "grid_auto_flow": null,
            "grid_auto_rows": null,
            "grid_column": null,
            "grid_gap": null,
            "grid_row": null,
            "grid_template_areas": null,
            "grid_template_columns": null,
            "grid_template_rows": null,
            "height": null,
            "justify_content": null,
            "justify_items": null,
            "left": null,
            "margin": null,
            "max_height": null,
            "max_width": null,
            "min_height": null,
            "min_width": null,
            "object_fit": null,
            "object_position": null,
            "order": null,
            "overflow": null,
            "overflow_x": null,
            "overflow_y": null,
            "padding": null,
            "right": null,
            "top": null,
            "visibility": null,
            "width": null
          }
        },
        "6c6fd2ac97a749c59b1a0c54fd02030f": {
          "model_module": "@jupyter-widgets/controls",
          "model_name": "ProgressStyleModel",
          "model_module_version": "1.5.0",
          "state": {
            "_model_module": "@jupyter-widgets/controls",
            "_model_module_version": "1.5.0",
            "_model_name": "ProgressStyleModel",
            "_view_count": null,
            "_view_module": "@jupyter-widgets/base",
            "_view_module_version": "1.2.0",
            "_view_name": "StyleView",
            "bar_color": null,
            "description_width": ""
          }
        },
        "b39eed2085ef4808b1631547f206282b": {
          "model_module": "@jupyter-widgets/base",
          "model_name": "LayoutModel",
          "model_module_version": "1.2.0",
          "state": {
            "_model_module": "@jupyter-widgets/base",
            "_model_module_version": "1.2.0",
            "_model_name": "LayoutModel",
            "_view_count": null,
            "_view_module": "@jupyter-widgets/base",
            "_view_module_version": "1.2.0",
            "_view_name": "LayoutView",
            "align_content": null,
            "align_items": null,
            "align_self": null,
            "border": null,
            "bottom": null,
            "display": null,
            "flex": null,
            "flex_flow": null,
            "grid_area": null,
            "grid_auto_columns": null,
            "grid_auto_flow": null,
            "grid_auto_rows": null,
            "grid_column": null,
            "grid_gap": null,
            "grid_row": null,
            "grid_template_areas": null,
            "grid_template_columns": null,
            "grid_template_rows": null,
            "height": null,
            "justify_content": null,
            "justify_items": null,
            "left": null,
            "margin": null,
            "max_height": null,
            "max_width": null,
            "min_height": null,
            "min_width": null,
            "object_fit": null,
            "object_position": null,
            "order": null,
            "overflow": null,
            "overflow_x": null,
            "overflow_y": null,
            "padding": null,
            "right": null,
            "top": null,
            "visibility": null,
            "width": null
          }
        },
        "10c4aea7f7274fa4887ded2868c03f3a": {
          "model_module": "@jupyter-widgets/controls",
          "model_name": "DescriptionStyleModel",
          "model_module_version": "1.5.0",
          "state": {
            "_model_module": "@jupyter-widgets/controls",
            "_model_module_version": "1.5.0",
            "_model_name": "DescriptionStyleModel",
            "_view_count": null,
            "_view_module": "@jupyter-widgets/base",
            "_view_module_version": "1.2.0",
            "_view_name": "StyleView",
            "description_width": ""
          }
        }
      }
    }
  },
  "cells": [
    {
      "cell_type": "markdown",
      "source": [
        "# Colabで全文検索（その７：RediSearch編）\n",
        "\n",
        "各種全文検索ツールをColabで動かしてみるシリーズです。今回は[Redis](https://redis.io/)の拡張モジュール[RediSearch](https://oss.redis.com/redisearch/)です。\n",
        "\n",
        "処理時間の計測はストレージのキャッシュとの兼ね合いがあるので、2回測ります。2回目は全てがメモリに載った状態での性能評価になります。ただ1回目もデータを投入した直後なので、メモリに載ってしまっている可能性があります。"
      ],
      "metadata": {
        "id": "gS7lQKzirYxr"
      }
    },
    {
      "cell_type": "markdown",
      "metadata": {
        "id": "rr8_1pqmMHal"
      },
      "source": [
        "## 準備\n",
        "\n",
        "まずは検索対象のテキストを日本語wikiから取得して、Google Driveに保存します。"
      ]
    },
    {
      "cell_type": "markdown",
      "source": [
        "Google Driveのマウント"
      ],
      "metadata": {
        "id": "SfwapuEEMHal"
      }
    },
    {
      "cell_type": "code",
      "execution_count": 1,
      "metadata": {
        "colab": {
          "base_uri": "https://localhost:8080/"
        },
        "outputId": "ab71f443-cacd-4dff-986b-e3beafce9391",
        "id": "uB4D_a2JMHal"
      },
      "outputs": [
        {
          "output_type": "stream",
          "name": "stdout",
          "text": [
            "Mounted at /content/drive\n"
          ]
        }
      ],
      "source": [
        "from google.colab import drive\n",
        "drive.mount('/content/drive')"
      ]
    },
    {
      "cell_type": "markdown",
      "source": [
        "jawikiの取得とjson形式に変換。90分ほど時間がかかります。"
      ],
      "metadata": {
        "id": "noPtYp0ZMHam"
      }
    },
    {
      "cell_type": "code",
      "execution_count": 2,
      "metadata": {
        "colab": {
          "base_uri": "https://localhost:8080/"
        },
        "outputId": "d0ff0b2a-123e-4c58-c985-0547412d17c6",
        "id": "5AbKu4okMHam"
      },
      "outputs": [
        {
          "output_type": "stream",
          "name": "stdout",
          "text": [
            "/content\n",
            "CPU times: user 3.41 ms, sys: 50 µs, total: 3.46 ms\n",
            "Wall time: 8.8 ms\n"
          ]
        }
      ],
      "source": [
        "%%time\n",
        "%cd /content/\n",
        "import os\n",
        "if not os.path.exists('/content/drive/MyDrive/wiki.json.bz2'):\n",
        "    !wget https://dumps.wikimedia.org/jawiki/latest/jawiki-latest-pages-articles.xml.bz2\n",
        "    !pip install wikiextractor\n",
        "    !python -m wikiextractor.WikiExtractor --no-templates --processes 4 --json -b 10G -o - jawiki-latest-pages-articles.xml.bz2 | bzip2 -c > /content/drive/MyDrive/wiki.json.bz2"
      ]
    },
    {
      "cell_type": "markdown",
      "source": [
        "json形式に変換されたデータを確認"
      ],
      "metadata": {
        "id": "n2mhXmY6MHam"
      }
    },
    {
      "cell_type": "code",
      "execution_count": 3,
      "metadata": {
        "colab": {
          "base_uri": "https://localhost:8080/"
        },
        "outputId": "f3917d1d-279c-4770-f081-83ec1fad950c",
        "id": "do5SBCPJMHam"
      },
      "outputs": [
        {
          "output_type": "stream",
          "name": "stdout",
          "text": [
            "アンパサンド\tアンパサンド（&amp;, ）は、並立助詞「…と…」を意味する記号である。ラテン\n",
            "言語\t言語（げんご）は、広辞苑や大辞泉には次のように解説されている。『日本大百科事典』\n",
            "日本語\t 日本語（にほんご、にっぽんご）は、日本国内や、かつての日本領だった国、そして日\n",
            "地理学\t地理学（ちりがく、、、伊：geografia、）は、。地域や空間、場所、自然環境\n",
            "EU (曖昧さ回避)\tEU\n",
            "国の一覧\t国の一覧（くにのいちらん）は、世界の独立国の一覧。対象.国際法上国家と言えるか否\n"
          ]
        }
      ],
      "source": [
        "import json\n",
        "import bz2\n",
        "\n",
        "with bz2.open('/content/drive/MyDrive/wiki.json.bz2', 'rt', encoding='utf-8') as fin:\n",
        "    for n, line in enumerate(fin):\n",
        "        data = json.loads(line)\n",
        "        print(data['title'].strip(), data['text'].replace('\\n', '')[:40], sep='\\t')\n",
        "        if n == 5:\n",
        "            break"
      ]
    },
    {
      "cell_type": "markdown",
      "source": [
        "## Redisのインストール"
      ],
      "metadata": {
        "id": "Vz3pRgJ0cuq3"
      }
    },
    {
      "cell_type": "markdown",
      "source": [
        "Redisを取得して、インストールします。"
      ],
      "metadata": {
        "id": "mAfi93uqtTRO"
      }
    },
    {
      "cell_type": "code",
      "source": [
        "!sudo yes | add-apt-repository ppa:redislabs/redis\n",
        "!sudo apt-get update\n",
        "!sudo apt-get install redis"
      ],
      "metadata": {
        "id": "wqg_pxuFzKqI",
        "outputId": "5d8e52ed-7ed5-4b17-d2c4-3abda1ee8d7b",
        "colab": {
          "base_uri": "https://localhost:8080/"
        }
      },
      "execution_count": 4,
      "outputs": [
        {
          "output_type": "stream",
          "name": "stdout",
          "text": [
            " Redis is an open source (BSD licensed), in-memory data structure store, used as a database, cache and message broker.\n",
            "\n",
            "It supports data structures such as strings, hashes, lists, sets, sorted sets with range queries, bitmaps, hyperloglogs, geospatial indexes with radius queries and streams.\n",
            "\n",
            "Redis has built-in replication, Lua scripting, LRU eviction, transactions and different levels of on-disk persistence, and provides high availability via Redis Sentinel and automatic partitioning with Redis Cluster.\n",
            " More info: https://launchpad.net/~redislabs/+archive/ubuntu/redis\n",
            "Hit:1 https://developer.download.nvidia.com/compute/cuda/repos/ubuntu1804/x86_64  InRelease\n",
            "Get:2 https://cloud.r-project.org/bin/linux/ubuntu bionic-cran40/ InRelease [3,626 B]\n",
            "Ign:3 https://developer.download.nvidia.com/compute/machine-learning/repos/ubuntu1804/x86_64  InRelease\n",
            "Hit:4 https://developer.download.nvidia.com/compute/machine-learning/repos/ubuntu1804/x86_64  Release\n",
            "Get:5 http://security.ubuntu.com/ubuntu bionic-security InRelease [88.7 kB]\n",
            "Hit:6 http://archive.ubuntu.com/ubuntu bionic InRelease\n",
            "Get:7 http://archive.ubuntu.com/ubuntu bionic-updates InRelease [88.7 kB]\n",
            "Get:8 http://ppa.launchpad.net/c2d4u.team/c2d4u4.0+/ubuntu bionic InRelease [15.9 kB]\n",
            "Get:10 http://archive.ubuntu.com/ubuntu bionic-backports InRelease [74.6 kB]\n",
            "Hit:11 http://ppa.launchpad.net/cran/libgit2/ubuntu bionic InRelease\n",
            "Hit:12 http://ppa.launchpad.net/deadsnakes/ppa/ubuntu bionic InRelease\n",
            "Hit:13 http://ppa.launchpad.net/graphics-drivers/ppa/ubuntu bionic InRelease\n",
            "Get:14 http://archive.ubuntu.com/ubuntu bionic-updates/main amd64 Packages [3,167 kB]\n",
            "Get:15 http://ppa.launchpad.net/redislabs/redis/ubuntu bionic InRelease [15.9 kB]\n",
            "Get:16 http://ppa.launchpad.net/c2d4u.team/c2d4u4.0+/ubuntu bionic/main Sources [1,950 kB]\n",
            "Get:17 http://ppa.launchpad.net/c2d4u.team/c2d4u4.0+/ubuntu bionic/main amd64 Packages [999 kB]\n",
            "Get:18 http://ppa.launchpad.net/redislabs/redis/ubuntu bionic/main amd64 Packages [964 B]\n",
            "Fetched 6,405 kB in 5s (1,384 kB/s)\n",
            "Reading package lists... Done\n",
            "Hit:1 https://developer.download.nvidia.com/compute/cuda/repos/ubuntu1804/x86_64  InRelease\n",
            "Hit:2 https://cloud.r-project.org/bin/linux/ubuntu bionic-cran40/ InRelease\n",
            "Ign:3 https://developer.download.nvidia.com/compute/machine-learning/repos/ubuntu1804/x86_64  InRelease\n",
            "Hit:4 https://developer.download.nvidia.com/compute/machine-learning/repos/ubuntu1804/x86_64  Release\n",
            "Hit:6 http://ppa.launchpad.net/c2d4u.team/c2d4u4.0+/ubuntu bionic InRelease\n",
            "Hit:7 http://ppa.launchpad.net/cran/libgit2/ubuntu bionic InRelease\n",
            "Hit:8 http://security.ubuntu.com/ubuntu bionic-security InRelease\n",
            "Hit:9 http://archive.ubuntu.com/ubuntu bionic InRelease\n",
            "Hit:10 http://archive.ubuntu.com/ubuntu bionic-updates InRelease\n",
            "Hit:11 http://ppa.launchpad.net/deadsnakes/ppa/ubuntu bionic InRelease\n",
            "Hit:12 http://archive.ubuntu.com/ubuntu bionic-backports InRelease\n",
            "Hit:13 http://ppa.launchpad.net/graphics-drivers/ppa/ubuntu bionic InRelease\n",
            "Hit:14 http://ppa.launchpad.net/redislabs/redis/ubuntu bionic InRelease\n",
            "Reading package lists... Done\n",
            "Reading package lists... Done\n",
            "Building dependency tree       \n",
            "Reading state information... Done\n",
            "The following packages were automatically installed and are no longer required:\n",
            "  libnvidia-common-460 nsight-compute-2020.2.0\n",
            "Use 'sudo apt autoremove' to remove them.\n",
            "The following additional packages will be installed:\n",
            "  redis-server redis-tools\n",
            "Suggested packages:\n",
            "  ruby-redis\n",
            "The following NEW packages will be installed:\n",
            "  redis redis-server redis-tools\n",
            "0 upgraded, 3 newly installed, 0 to remove and 43 not upgraded.\n",
            "Need to get 1,338 kB of archives.\n",
            "After this operation, 8,337 kB of additional disk space will be used.\n",
            "Get:1 http://ppa.launchpad.net/redislabs/redis/ubuntu bionic/main amd64 redis-tools amd64 6:7.0.0-1rl1~bionic1 [1,216 kB]\n",
            "Get:2 http://ppa.launchpad.net/redislabs/redis/ubuntu bionic/main amd64 redis-server amd64 6:7.0.0-1rl1~bionic1 [84.7 kB]\n",
            "Get:3 http://ppa.launchpad.net/redislabs/redis/ubuntu bionic/main amd64 redis all 6:7.0.0-1rl1~bionic1 [37.9 kB]\n",
            "Fetched 1,338 kB in 2s (577 kB/s)\n",
            "debconf: unable to initialize frontend: Dialog\n",
            "debconf: (No usable dialog-like program is installed, so the dialog based frontend cannot be used. at /usr/share/perl5/Debconf/FrontEnd/Dialog.pm line 76, <> line 3.)\n",
            "debconf: falling back to frontend: Readline\n",
            "debconf: unable to initialize frontend: Readline\n",
            "debconf: (This frontend requires a controlling tty.)\n",
            "debconf: falling back to frontend: Teletype\n",
            "dpkg-preconfigure: unable to re-open stdin: \n",
            "Selecting previously unselected package redis-tools.\n",
            "(Reading database ... 155202 files and directories currently installed.)\n",
            "Preparing to unpack .../redis-tools_6%3a7.0.0-1rl1~bionic1_amd64.deb ...\n",
            "Unpacking redis-tools (6:7.0.0-1rl1~bionic1) ...\n",
            "Selecting previously unselected package redis-server.\n",
            "Preparing to unpack .../redis-server_6%3a7.0.0-1rl1~bionic1_amd64.deb ...\n",
            "Unpacking redis-server (6:7.0.0-1rl1~bionic1) ...\n",
            "Selecting previously unselected package redis.\n",
            "Preparing to unpack .../redis_6%3a7.0.0-1rl1~bionic1_all.deb ...\n",
            "Unpacking redis (6:7.0.0-1rl1~bionic1) ...\n",
            "Setting up redis-tools (6:7.0.0-1rl1~bionic1) ...\n",
            "Setting up redis-server (6:7.0.0-1rl1~bionic1) ...\n",
            "invoke-rc.d: could not determine current runlevel\n",
            "invoke-rc.d: policy-rc.d denied execution of start.\n",
            "Setting up redis (6:7.0.0-1rl1~bionic1) ...\n",
            "Processing triggers for man-db (2.8.3-2ubuntu0.1) ...\n",
            "Processing triggers for systemd (237-3ubuntu10.53) ...\n"
          ]
        }
      ]
    },
    {
      "cell_type": "markdown",
      "source": [
        "インストールされたRedisのバージョンを確認します。"
      ],
      "metadata": {
        "id": "SWEOehnhtX5i"
      }
    },
    {
      "cell_type": "code",
      "source": [
        "!redis-cli --version\n",
        "!redis-server --version"
      ],
      "metadata": {
        "colab": {
          "base_uri": "https://localhost:8080/"
        },
        "id": "MTdTli7yIW9G",
        "outputId": "5d119368-daef-4f07-b102-023a80c452ce"
      },
      "execution_count": 5,
      "outputs": [
        {
          "output_type": "stream",
          "name": "stdout",
          "text": [
            "redis-cli 7.0.0\n",
            "Redis server v=7.0.0 sha=00000000:0 malloc=jemalloc-5.2.1 bits=64 build=698b5df4772f6164\n"
          ]
        }
      ]
    },
    {
      "cell_type": "code",
      "source": [
        "!!echo \"enable-module-command yes\" >> /etc/redis/redis.conf"
      ],
      "metadata": {
        "colab": {
          "base_uri": "https://localhost:8080/"
        },
        "id": "A72GZ7lpnunH",
        "outputId": "1f23ce2f-cd6f-4be6-eeda-5038810d83e6"
      },
      "execution_count": 6,
      "outputs": [
        {
          "output_type": "execute_result",
          "data": {
            "text/plain": [
              "[]"
            ]
          },
          "metadata": {},
          "execution_count": 6
        }
      ]
    },
    {
      "cell_type": "markdown",
      "source": [
        "Redisを起動します。"
      ],
      "metadata": {
        "id": "AQoVEMJHtPLy"
      }
    },
    {
      "cell_type": "code",
      "source": [
        "!service redis-server start"
      ],
      "metadata": {
        "colab": {
          "base_uri": "https://localhost:8080/"
        },
        "id": "Xzc-W-WxIwUU",
        "outputId": "475afdbb-6f82-4f64-a272-f2e9455bafb4"
      },
      "execution_count": 7,
      "outputs": [
        {
          "output_type": "stream",
          "name": "stdout",
          "text": [
            "Starting redis-server: redis-server.\n"
          ]
        }
      ]
    },
    {
      "cell_type": "markdown",
      "source": [
        "## RediSearchのビルド"
      ],
      "metadata": {
        "id": "8EMg2qTlsX1D"
      }
    },
    {
      "cell_type": "markdown",
      "source": [
        "Redisの拡張モジュールであるRediSearchを取得してビルドします。"
      ],
      "metadata": {
        "id": "539HCRwTtfQT"
      }
    },
    {
      "cell_type": "code",
      "source": [
        "%cd /content\n",
        "!git clone --recursive https://github.com/RediSearch/RediSearch.git\n",
        "%cd /content/RediSearch\n",
        "!make setup\n",
        "!make build"
      ],
      "metadata": {
        "id": "9bCsIJrsp-xk",
        "colab": {
          "base_uri": "https://localhost:8080/"
        },
        "outputId": "e5b442d6-4918-4500-da02-13c2df8eb987"
      },
      "execution_count": 8,
      "outputs": [
        {
          "output_type": "stream",
          "name": "stdout",
          "text": [
            "/content\n",
            "Cloning into 'RediSearch'...\n",
            "remote: Enumerating objects: 39420, done.\u001b[K\n",
            "remote: Counting objects: 100% (164/164), done.\u001b[K\n",
            "remote: Compressing objects: 100% (124/124), done.\u001b[K\n",
            "remote: Total 39420 (delta 93), reused 66 (delta 40), pack-reused 39256\u001b[K\n",
            "Receiving objects: 100% (39420/39420), 26.49 MiB | 20.31 MiB/s, done.\n",
            "Resolving deltas: 100% (29459/29459), done.\n",
            "Submodule 'deps/VectorSimilarity' (https://github.com/RedisAI/VectorSimilarity.git) registered for path 'deps/VectorSimilarity'\n",
            "Submodule 'deps/googletest' (https://github.com/google/googletest.git) registered for path 'deps/googletest'\n",
            "Submodule 'deps/hiredis' (https://github.com/redis/hiredis.git) registered for path 'deps/hiredis'\n",
            "Submodule 'deps/libuv' (https://github.com/libuv/libuv.git) registered for path 'deps/libuv'\n",
            "Submodule 'deps/readies' (https://github.com/RedisLabsModules/readies.git) registered for path 'deps/readies'\n",
            "Cloning into '/content/RediSearch/deps/VectorSimilarity'...\n",
            "remote: Enumerating objects: 2658, done.        \n",
            "remote: Counting objects: 100% (1197/1197), done.        \n",
            "remote: Compressing objects: 100% (564/564), done.        \n",
            "remote: Total 2658 (delta 950), reused 665 (delta 633), pack-reused 1461        \n",
            "Receiving objects: 100% (2658/2658), 683.73 KiB | 2.62 MiB/s, done.\n",
            "Resolving deltas: 100% (1482/1482), done.\n",
            "Cloning into '/content/RediSearch/deps/googletest'...\n",
            "remote: Enumerating objects: 24313, done.        \n",
            "remote: Total 24313 (delta 0), reused 0 (delta 0), pack-reused 24313        \n",
            "Receiving objects: 100% (24313/24313), 10.07 MiB | 16.97 MiB/s, done.\n",
            "Resolving deltas: 100% (18003/18003), done.\n",
            "Cloning into '/content/RediSearch/deps/hiredis'...\n",
            "remote: Enumerating objects: 4193, done.        \n",
            "remote: Counting objects: 100% (263/263), done.        \n",
            "remote: Compressing objects: 100% (113/113), done.        \n",
            "remote: Total 4193 (delta 142), reused 205 (delta 120), pack-reused 3930        \n",
            "Receiving objects: 100% (4193/4193), 1.44 MiB | 5.75 MiB/s, done.\n",
            "Resolving deltas: 100% (2619/2619), done.\n",
            "Cloning into '/content/RediSearch/deps/libuv'...\n",
            "remote: Enumerating objects: 34472, done.        \n",
            "remote: Counting objects: 100% (1/1), done.        \n",
            "remote: Total 34472 (delta 0), reused 0 (delta 0), pack-reused 34471        \n",
            "Receiving objects: 100% (34472/34472), 16.38 MiB | 19.83 MiB/s, done.\n",
            "Resolving deltas: 100% (25412/25412), done.\n",
            "Cloning into '/content/RediSearch/deps/readies'...\n",
            "remote: Enumerating objects: 3107, done.        \n",
            "remote: Counting objects: 100% (813/813), done.        \n",
            "remote: Compressing objects: 100% (168/168), done.        \n",
            "remote: Total 3107 (delta 725), reused 683 (delta 645), pack-reused 2294        \n",
            "Receiving objects: 100% (3107/3107), 491.69 KiB | 2.51 MiB/s, done.\n",
            "Resolving deltas: 100% (2153/2153), done.\n",
            "Submodule path 'deps/VectorSimilarity': checked out 'adfea2c602781ab84a1782eae0c9e6bcdea0053f'\n",
            "Submodule 'deps/pybind11' (https://github.com/pybind/pybind11.git) registered for path 'deps/VectorSimilarity/deps/pybind11'\n",
            "Cloning into '/content/RediSearch/deps/VectorSimilarity/deps/pybind11'...\n",
            "remote: Enumerating objects: 23792, done.        \n",
            "remote: Total 23792 (delta 0), reused 0 (delta 0), pack-reused 23792        \n",
            "Receiving objects: 100% (23792/23792), 8.36 MiB | 16.30 MiB/s, done.\n",
            "Resolving deltas: 100% (16703/16703), done.\n",
            "Submodule path 'deps/VectorSimilarity/deps/pybind11': checked out '787d2c88cafa4d07fb38c9519c485a86323cfcf4'\n",
            "Submodule path 'deps/googletest': checked out 'e2239ee6043f73722e7aa812a459f54a28552929'\n",
            "Submodule path 'deps/hiredis': checked out 'b731283245f3183af527237166261ad0768ba7d4'\n",
            "Submodule path 'deps/libuv': checked out '6ce14710da7079eb248868171f6343bc409ea3a4'\n",
            "Submodule path 'deps/readies': checked out '27d4effb110522ea828d71629d90e14d35992ea7'\n",
            "/content/RediSearch\n",
            "Setting up system...\n",
            "apt-get -qq update -y\n",
            "# readies version: 27d4eff\n",
            "apt-get -qq install --fix-missing -y ca-certificates\n",
            "apt-get -qq install --fix-missing -y curl wget unzip\n",
            "/content/RediSearch/sbin/../deps/readies/bin/enable-utf8\n",
            "apt-get -qq install --fix-missing -y git gawk jq openssl rsync unzip\n",
            "apt-get -qq install --fix-missing -y patch\n",
            "apt-get -qq install --fix-missing -y libatomic1\n",
            "/content/RediSearch/sbin/../deps/readies/bin/getgcc --modern\n",
            "apt-get -qq install --fix-missing -y libtool m4 automake libssl-dev\n",
            "apt-get -qq install --fix-missing -y python3-dev\n",
            "/usr/bin/python3 /content/RediSearch/sbin/../deps/readies/bin/getcmake --usr\n",
            "/usr/bin/python3 /content/RediSearch/sbin/../deps/readies/bin/getrmpytools --reinstall --modern\n",
            "apt-get -qq install --fix-missing -y lcov\n",
            "/usr/bin/python3 -m pip install --disable-pip-version-check --user  pudb awscli\n",
            "/usr/bin/python3 -m pip install --disable-pip-version-check --user  gevent\n",
            "/usr/bin/python3 -m pip install --disable-pip-version-check --user  -r /content/RediSearch/sbin/../tests/pytests/requirements.txt\n",
            "\u001b[0m# RediSearch root: /content/RediSearch\u001b[0m\n",
            "\u001b[0m# RediSearch binroot: /content/RediSearch/bin/linux-x64-release\u001b[0m\n",
            "\u001b[0m# RediSearch static libstdc++: on\u001b[0m\n",
            "-- The C compiler identification is GNU 10.3.0\n",
            "-- The CXX compiler identification is GNU 10.3.0\n",
            "-- Detecting C compiler ABI info\n",
            "-- Detecting C compiler ABI info - done\n",
            "-- Check for working C compiler: /usr/bin/cc - skipped\n",
            "-- Detecting C compile features\n",
            "-- Detecting C compile features - done\n",
            "-- Detecting CXX compiler ABI info\n",
            "-- Detecting CXX compiler ABI info - done\n",
            "-- Check for working CXX compiler: /usr/bin/c++ - skipped\n",
            "-- Detecting CXX compile features\n",
            "-- Detecting CXX compile features - done\n",
            "-- Performing Test HAVE_W_INCOMPATIBLE_POINTER_TYPES\n",
            "-- Performing Test HAVE_W_INCOMPATIBLE_POINTER_TYPES - Success\n",
            "-- Performing Test HAVE_W_DISCARDS_QUALIFIERS\n",
            "-- Performing Test HAVE_W_DISCARDS_QUALIFIERS - Failed\n",
            "\u001b[0m# CMAKE_C_COMPILER_ID: GNU\u001b[0m\n",
            "\u001b[0m# VectorSimilarity root: /content/RediSearch/deps/VectorSimilarity\u001b[0m\n",
            "\u001b[0m# VectorSimilarity binroot: /content/RediSearch/bin/linux-x64-release/search/deps/VectorSimilarity/src\u001b[0m\n",
            "\u001b[0m# VectorSimilarity static build: ON\u001b[0m\n",
            "\u001b[0m# VectorSimilarity build test: OFF\u001b[0m\n",
            "\u001b[0m# OS=linux\u001b[0m\n",
            "\u001b[0m# OSNICK=bionic\u001b[0m\n",
            "\u001b[0m# ARCH=x64\u001b[0m\n",
            "\u001b[0m# VECSIM_MARCH: x86-64-v4\u001b[0m\n",
            "-- Looking for dlfcn.h\n",
            "-- Looking for dlfcn.h - found\n",
            "-- Looking for getauxval\n",
            "-- Looking for getauxval - found\n",
            "-- Performing Test CXX_AVX512F\n",
            "-- Performing Test CXX_AVX512F - Success\n",
            "-- Performing Test CXX_AVX\n",
            "-- Performing Test CXX_AVX - Success\n",
            "-- Performing Test CXX_SSE\n",
            "-- Performing Test CXX_SSE - Success\n",
            "\u001b[0mBuilding with AVX512\u001b[0m\n",
            "\u001b[0mBuilding with AVX\u001b[0m\n",
            "\u001b[0mBuilding with SSE\u001b[0m\n",
            "-- Found Python: /usr/bin/python3.7 (found version \"3.7.13\") found components: Interpreter \n",
            "-- Looking for pthread.h\n",
            "-- Looking for pthread.h - found\n",
            "-- Performing Test CMAKE_HAVE_LIBC_PTHREAD\n",
            "-- Performing Test CMAKE_HAVE_LIBC_PTHREAD - Success\n",
            "-- Found Threads: TRUE  \n",
            "-- Configuring done\n",
            "-- Generating done\n",
            "-- Build files have been written to: /content/RediSearch/bin/linux-x64-release/search\n",
            "Building /content/RediSearch/bin/linux-x64-release/search/redisearch.so ...\n",
            "[  0%] \u001b[32mBuilding C object _deps/cpu_features-build/CMakeFiles/utils.dir/src/filesystem.c.o\u001b[0m\n",
            "[  1%] \u001b[32mBuilding C object CMakeFiles/rscore.dir/deps/base64/base64.o\u001b[0m\n",
            "[  1%] \u001b[32mBuilding C object _deps/cpu_features-build/CMakeFiles/utils.dir/src/stack_line_reader.c.o\u001b[0m\n",
            "[  1%] \u001b[32mBuilding C object CMakeFiles/rscore.dir/deps/base64/base64_check.o\u001b[0m\n",
            "[  2%] \u001b[32mBuilding C object _deps/cpu_features-build/CMakeFiles/utils.dir/src/string_view.c.o\u001b[0m\n",
            "[  2%] \u001b[32mBuilding C object CMakeFiles/rscore.dir/deps/cndict/cndict_data.o\u001b[0m\n",
            "[  2%] Built target utils\n",
            "[  3%] \u001b[32mBuilding C object CMakeFiles/rscore.dir/deps/geohash/geohash.o\u001b[0m\n",
            "[  3%] \u001b[32mBuilding C object deps/rmutil/CMakeFiles/rmutil.dir/alloc.o\u001b[0m\n",
            "[  3%] \u001b[32mBuilding C object CMakeFiles/rscore.dir/deps/geohash/geohash_helper.o\u001b[0m\n",
            "[  3%] \u001b[32mBuilding C object deps/rmutil/CMakeFiles/rmutil.dir/args.o\u001b[0m\n",
            "[  3%] \u001b[32mBuilding C object CMakeFiles/rscore.dir/deps/libnu/cesu8.o\u001b[0m\n",
            "[  4%] \u001b[32mBuilding C object CMakeFiles/rscore.dir/deps/libnu/ducet.o\u001b[0m\n",
            "[  4%] \u001b[32mBuilding C object deps/rmutil/CMakeFiles/rmutil.dir/cmdparse.o\u001b[0m\n",
            "[  4%] \u001b[32mBuilding C object CMakeFiles/rscore.dir/deps/libnu/extra.o\u001b[0m\n",
            "[  4%] \u001b[32mBuilding C object CMakeFiles/rscore.dir/deps/libnu/strcoll.o\u001b[0m\n",
            "[  5%] \u001b[32mBuilding C object deps/rmutil/CMakeFiles/rmutil.dir/heap.o\u001b[0m\n",
            "[  5%] \u001b[32mBuilding C object deps/rmutil/CMakeFiles/rmutil.dir/periodic.o\u001b[0m\n",
            "[  5%] \u001b[32mBuilding C object deps/rmutil/CMakeFiles/rmutil.dir/priority_queue.o\u001b[0m\n",
            "[  6%] \u001b[32mBuilding C object deps/rmutil/CMakeFiles/rmutil.dir/sds.o\u001b[0m\n",
            "[  6%] \u001b[32mBuilding C object deps/rmutil/CMakeFiles/rmutil.dir/strings.o\u001b[0m\n",
            "[  6%] \u001b[32mBuilding C object CMakeFiles/rscore.dir/deps/libnu/strings.o\u001b[0m\n",
            "[  6%] \u001b[32mBuilding C object deps/rmutil/CMakeFiles/rmutil.dir/util.o\u001b[0m\n",
            "[  7%] \u001b[32mBuilding C object CMakeFiles/rscore.dir/deps/libnu/tofold.o\u001b[0m\n",
            "[  7%] \u001b[32mBuilding C object CMakeFiles/rscore.dir/deps/libnu/tolower.o\u001b[0m\n",
            "[  7%] \u001b[32mBuilding C object CMakeFiles/rscore.dir/deps/libnu/toupper.o\u001b[0m\n",
            "[  8%] \u001b[32mBuilding C object deps/rmutil/CMakeFiles/rmutil.dir/vector.o\u001b[0m\n",
            "[  9%] \u001b[32mBuilding C object CMakeFiles/rscore.dir/deps/libnu/utf16.o\u001b[0m\n",
            "[  9%] Built target rmutil\n",
            "[  9%] \u001b[32mBuilding C object deps/friso/CMakeFiles/friso.dir/friso.o\u001b[0m\n",
            "[  9%] \u001b[32mBuilding C object CMakeFiles/rscore.dir/deps/libnu/utf16be.o\u001b[0m\n",
            "[  9%] \u001b[32mBuilding C object CMakeFiles/rscore.dir/deps/libnu/utf16he.o\u001b[0m\n",
            "[ 10%] \u001b[32mBuilding C object CMakeFiles/rscore.dir/deps/libnu/utf16le.o\u001b[0m\n",
            "[ 10%] \u001b[32mBuilding C object CMakeFiles/rscore.dir/deps/libnu/utf32.o\u001b[0m\n",
            "[ 10%] \u001b[32mBuilding C object CMakeFiles/rscore.dir/deps/libnu/utf32be.o\u001b[0m\n",
            "[ 11%] \u001b[32mBuilding C object CMakeFiles/rscore.dir/deps/libnu/utf32he.o\u001b[0m\n",
            "[ 11%] \u001b[32mBuilding C object CMakeFiles/rscore.dir/deps/libnu/utf32le.o\u001b[0m\n",
            "[ 11%] \u001b[32mBuilding C object CMakeFiles/rscore.dir/deps/libnu/utf8.o\u001b[0m\n",
            "[ 11%] \u001b[32mBuilding C object CMakeFiles/rscore.dir/deps/libnu/validate.o\u001b[0m\n",
            "[ 12%] \u001b[32mBuilding C object CMakeFiles/rscore.dir/deps/libnu/version.o\u001b[0m\n",
            "[ 12%] \u001b[32mBuilding C object CMakeFiles/rscore.dir/deps/miniz/miniz.o\u001b[0m\n",
            "[ 13%] \u001b[32mBuilding C object deps/friso/CMakeFiles/friso.dir/friso_array.o\u001b[0m\n",
            "[ 13%] \u001b[32mBuilding C object deps/friso/CMakeFiles/friso.dir/friso_hash.o\u001b[0m\n",
            "[ 13%] \u001b[32mBuilding C object deps/friso/CMakeFiles/friso.dir/friso_lexicon.o\u001b[0m\n",
            "[ 14%] \u001b[32mBuilding C object deps/friso/CMakeFiles/friso.dir/friso_link.o\u001b[0m\n",
            "[ 14%] \u001b[32mBuilding C object deps/friso/CMakeFiles/friso.dir/friso_string.o\u001b[0m\n",
            "[ 14%] \u001b[32mBuilding C object deps/friso/CMakeFiles/friso.dir/friso_ctype.o\u001b[0m\n",
            "[ 15%] \u001b[32mBuilding C object deps/friso/CMakeFiles/friso.dir/friso_UTF8.o\u001b[0m\n",
            "[ 15%] \u001b[32mBuilding C object deps/friso/CMakeFiles/friso.dir/friso_GBK.o\u001b[0m\n",
            "[ 15%] Built target friso\n",
            "[ 15%] \u001b[32mBuilding C object deps/snowball/CMakeFiles/snowball.dir/libstemmer/libstemmer.o\u001b[0m\n",
            "[ 15%] \u001b[32mBuilding C object deps/snowball/CMakeFiles/snowball.dir/runtime/api.o\u001b[0m\n",
            "[ 15%] \u001b[32mBuilding C object deps/snowball/CMakeFiles/snowball.dir/runtime/utilities.o\u001b[0m\n",
            "[ 16%] \u001b[32mBuilding C object deps/snowball/CMakeFiles/snowball.dir/src_c/stem_ISO_8859_1_basque.o\u001b[0m\n",
            "[ 16%] \u001b[32mBuilding C object deps/snowball/CMakeFiles/snowball.dir/src_c/stem_ISO_8859_1_catalan.o\u001b[0m\n",
            "[ 16%] \u001b[32mBuilding C object deps/snowball/CMakeFiles/snowball.dir/src_c/stem_ISO_8859_1_danish.o\u001b[0m\n",
            "[ 17%] \u001b[32mBuilding C object deps/snowball/CMakeFiles/snowball.dir/src_c/stem_ISO_8859_1_dutch.o\u001b[0m\n",
            "[ 17%] \u001b[32mBuilding C object deps/snowball/CMakeFiles/snowball.dir/src_c/stem_ISO_8859_1_english.o\u001b[0m\n",
            "[ 17%] \u001b[32mBuilding C object deps/snowball/CMakeFiles/snowball.dir/src_c/stem_ISO_8859_1_finnish.o\u001b[0m\n",
            "[ 18%] \u001b[32mBuilding C object deps/snowball/CMakeFiles/snowball.dir/src_c/stem_ISO_8859_1_french.o\u001b[0m\n",
            "[ 18%] \u001b[32mBuilding C object deps/snowball/CMakeFiles/snowball.dir/src_c/stem_ISO_8859_1_german.o\u001b[0m\n",
            "[ 18%] \u001b[32mBuilding C object CMakeFiles/rscore.dir/deps/thpool/thpool.o\u001b[0m\n",
            "[ 18%] \u001b[32mBuilding C object deps/snowball/CMakeFiles/snowball.dir/src_c/stem_ISO_8859_1_indonesian.o\u001b[0m\n",
            "[ 18%] \u001b[32mBuilding C object deps/snowball/CMakeFiles/snowball.dir/src_c/stem_ISO_8859_1_irish.o\u001b[0m\n",
            "[ 19%] \u001b[32mBuilding C object CMakeFiles/rscore.dir/deps/triemap/triemap.o\u001b[0m\n",
            "[ 20%] \u001b[32mBuilding C object deps/snowball/CMakeFiles/snowball.dir/src_c/stem_ISO_8859_1_italian.o\u001b[0m\n",
            "[ 20%] \u001b[32mBuilding C object deps/snowball/CMakeFiles/snowball.dir/src_c/stem_ISO_8859_1_norwegian.o\u001b[0m\n",
            "[ 20%] \u001b[32mBuilding C object deps/snowball/CMakeFiles/snowball.dir/src_c/stem_ISO_8859_1_porter.o\u001b[0m\n",
            "[ 21%] \u001b[32mBuilding C object deps/snowball/CMakeFiles/snowball.dir/src_c/stem_ISO_8859_1_portuguese.o\u001b[0m\n",
            "[ 21%] \u001b[32mBuilding C object CMakeFiles/rscore.dir/src/aggregate/aggregate_exec.o\u001b[0m\n",
            "[ 21%] \u001b[32mBuilding C object deps/snowball/CMakeFiles/snowball.dir/src_c/stem_ISO_8859_1_spanish.o\u001b[0m\n",
            "\u001b[01m\u001b[K/content/RediSearch/src/aggregate/aggregate_exec.c:\u001b[m\u001b[K In function ‘\u001b[01m\u001b[KserializeResult\u001b[m\u001b[K’:\n",
            "\u001b[01m\u001b[K/content/RediSearch/src/aggregate/aggregate_exec.c:129:50:\u001b[m\u001b[K \u001b[01;35m\u001b[Kwarning: \u001b[m\u001b[Kpassing argument 1 of ‘\u001b[01m\u001b[KRLookup_GetKey\u001b[m\u001b[K’ discards ‘\u001b[01m\u001b[Kconst\u001b[m\u001b[K’ qualifier from pointer target type [\u001b[01;35m\u001b[K\u001b]8;;https://gcc.gnu.org/onlinedocs/gcc/Warning-Options.html#index-Wdiscarded-qualifiers\u0007-Wdiscarded-qualifiers\u001b]8;;\u0007\u001b[m\u001b[K]\n",
            "  129 |         const RLookupKey *rlk = RLookup_GetKey(\u001b[01;35m\u001b[Kcv->lastLk\u001b[m\u001b[K, req->requiredFields[currentField], 0);\n",
            "      |                                                \u001b[01;35m\u001b[K~~^~~~~~~~\u001b[m\u001b[K\n",
            "In file included from \u001b[01m\u001b[K/content/RediSearch/src/search_options.h:9\u001b[m\u001b[K,\n",
            "                 from \u001b[01m\u001b[K/content/RediSearch/src/query.h:15\u001b[m\u001b[K,\n",
            "                 from \u001b[01m\u001b[K/content/RediSearch/src/aggregate/aggregate.h:4\u001b[m\u001b[K,\n",
            "                 from \u001b[01m\u001b[K/content/RediSearch/src/aggregate/aggregate_exec.c:4\u001b[m\u001b[K:\n",
            "\u001b[01m\u001b[K/content/RediSearch/src/rlookup.h:196:37:\u001b[m\u001b[K \u001b[01;36m\u001b[Knote: \u001b[m\u001b[Kexpected ‘\u001b[01m\u001b[KRLookup *\u001b[m\u001b[K’ but argument is of type ‘\u001b[01m\u001b[Kconst RLookup * const\u001b[m\u001b[K’\n",
            "  196 | RLookupKey *RLookup_GetKey(\u001b[01;36m\u001b[KRLookup *lookup\u001b[m\u001b[K, const char *name, int flags);\n",
            "      |                            \u001b[01;36m\u001b[K~~~~~~~~~^~~~~~\u001b[m\u001b[K\n",
            "[ 21%] \u001b[32mBuilding C object deps/snowball/CMakeFiles/snowball.dir/src_c/stem_ISO_8859_1_swedish.o\u001b[0m\n",
            "[ 22%] \u001b[32mBuilding C object deps/snowball/CMakeFiles/snowball.dir/src_c/stem_ISO_8859_2_hungarian.o\u001b[0m\n",
            "[ 22%] \u001b[32mBuilding C object CMakeFiles/rscore.dir/src/aggregate/aggregate_plan.o\u001b[0m\n",
            "[ 22%] \u001b[32mBuilding C object deps/snowball/CMakeFiles/snowball.dir/src_c/stem_ISO_8859_2_romanian.o\u001b[0m\n",
            "[ 22%] \u001b[32mBuilding C object deps/snowball/CMakeFiles/snowball.dir/src_c/stem_KOI8_R_russian.o\u001b[0m\n",
            "[ 23%] \u001b[32mBuilding C object deps/snowball/CMakeFiles/snowball.dir/src_c/stem_UTF_8_arabic.o\u001b[0m\n",
            "[ 24%] \u001b[32mBuilding C object CMakeFiles/rscore.dir/src/aggregate/aggregate_request.o\u001b[0m\n",
            "[ 24%] \u001b[32mBuilding C object deps/snowball/CMakeFiles/snowball.dir/src_c/stem_UTF_8_armenian.o\u001b[0m\n",
            "[ 24%] \u001b[32mBuilding C object deps/snowball/CMakeFiles/snowball.dir/src_c/stem_UTF_8_basque.o\u001b[0m\n",
            "[ 24%] \u001b[32mBuilding C object deps/snowball/CMakeFiles/snowball.dir/src_c/stem_UTF_8_catalan.o\u001b[0m\n",
            "[ 25%] \u001b[32mBuilding C object deps/snowball/CMakeFiles/snowball.dir/src_c/stem_UTF_8_danish.o\u001b[0m\n",
            "[ 25%] \u001b[32mBuilding C object deps/snowball/CMakeFiles/snowball.dir/src_c/stem_UTF_8_dutch.o\u001b[0m\n",
            "[ 25%] \u001b[32mBuilding C object CMakeFiles/rscore.dir/src/aggregate/expr/exprast.o\u001b[0m\n",
            "[ 25%] \u001b[32mBuilding C object deps/snowball/CMakeFiles/snowball.dir/src_c/stem_UTF_8_english.o\u001b[0m\n",
            "[ 25%] \u001b[32mBuilding C object CMakeFiles/rscore.dir/src/aggregate/expr/expression.o\u001b[0m\n",
            "[ 26%] \u001b[32mBuilding C object deps/snowball/CMakeFiles/snowball.dir/src_c/stem_UTF_8_finnish.o\u001b[0m\n",
            "[ 26%] \u001b[32mBuilding C object deps/snowball/CMakeFiles/snowball.dir/src_c/stem_UTF_8_french.o\u001b[0m\n",
            "[ 26%] \u001b[32mBuilding C object CMakeFiles/rscore.dir/src/aggregate/expr/lexer.o\u001b[0m\n",
            "[ 26%] \u001b[32mBuilding C object deps/snowball/CMakeFiles/snowball.dir/src_c/stem_UTF_8_german.o\u001b[0m\n",
            "[ 27%] \u001b[32mBuilding C object deps/snowball/CMakeFiles/snowball.dir/src_c/stem_UTF_8_greek.o\u001b[0m\n",
            "[ 28%] \u001b[32mBuilding C object CMakeFiles/rscore.dir/src/aggregate/expr/parser.o\u001b[0m\n",
            "[ 28%] \u001b[32mBuilding C object deps/snowball/CMakeFiles/snowball.dir/src_c/stem_UTF_8_hindi.o\u001b[0m\n",
            "[ 28%] \u001b[32mBuilding C object deps/snowball/CMakeFiles/snowball.dir/src_c/stem_UTF_8_hungarian.o\u001b[0m\n",
            "[ 28%] \u001b[32mBuilding C object CMakeFiles/rscore.dir/src/aggregate/functions/date.o\u001b[0m\n",
            "[ 28%] \u001b[32mBuilding C object deps/snowball/CMakeFiles/snowball.dir/src_c/stem_UTF_8_indonesian.o\u001b[0m\n",
            "[ 29%] \u001b[32mBuilding C object deps/snowball/CMakeFiles/snowball.dir/src_c/stem_UTF_8_irish.o\u001b[0m\n",
            "[ 29%] \u001b[32mBuilding C object CMakeFiles/rscore.dir/src/aggregate/functions/function.o\u001b[0m\n",
            "[ 29%] \u001b[32mBuilding C object deps/snowball/CMakeFiles/snowball.dir/src_c/stem_UTF_8_italian.o\u001b[0m\n",
            "[ 30%] \u001b[32mBuilding C object CMakeFiles/rscore.dir/src/aggregate/functions/geo.o\u001b[0m\n",
            "[ 30%] \u001b[32mBuilding C object deps/snowball/CMakeFiles/snowball.dir/src_c/stem_UTF_8_lithuanian.o\u001b[0m\n",
            "[ 31%] \u001b[32mBuilding C object deps/snowball/CMakeFiles/snowball.dir/src_c/stem_UTF_8_nepali.o\u001b[0m\n",
            "[ 31%] \u001b[32mBuilding C object CMakeFiles/rscore.dir/src/aggregate/functions/math.o\u001b[0m\n",
            "[ 31%] \u001b[32mBuilding C object deps/snowball/CMakeFiles/snowball.dir/src_c/stem_UTF_8_norwegian.o\u001b[0m\n",
            "[ 31%] \u001b[32mBuilding C object deps/snowball/CMakeFiles/snowball.dir/src_c/stem_UTF_8_porter.o\u001b[0m\n",
            "[ 31%] \u001b[32mBuilding C object CMakeFiles/rscore.dir/src/aggregate/functions/string.o\u001b[0m\n",
            "[ 32%] \u001b[32mBuilding C object deps/snowball/CMakeFiles/snowball.dir/src_c/stem_UTF_8_portuguese.o\u001b[0m\n",
            "[ 32%] \u001b[32mBuilding C object deps/snowball/CMakeFiles/snowball.dir/src_c/stem_UTF_8_romanian.o\u001b[0m\n",
            "[ 33%] \u001b[32mBuilding C object CMakeFiles/rscore.dir/src/aggregate/group_by.o\u001b[0m\n",
            "[ 33%] \u001b[32mBuilding C object deps/snowball/CMakeFiles/snowball.dir/src_c/stem_UTF_8_russian.o\u001b[0m\n",
            "[ 33%] \u001b[32mBuilding C object deps/snowball/CMakeFiles/snowball.dir/src_c/stem_UTF_8_serbian.o\u001b[0m\n",
            "[ 33%] \u001b[32mBuilding C object CMakeFiles/rscore.dir/src/aggregate/reducer.o\u001b[0m\n",
            "[ 33%] \u001b[32mBuilding C object CMakeFiles/rscore.dir/src/aggregate/reducers/count.o\u001b[0m\n",
            "[ 34%] \u001b[32mBuilding C object deps/snowball/CMakeFiles/snowball.dir/src_c/stem_UTF_8_spanish.o\u001b[0m\n",
            "[ 34%] \u001b[32mBuilding C object CMakeFiles/rscore.dir/src/aggregate/reducers/count_distinct.o\u001b[0m\n",
            "[ 34%] \u001b[32mBuilding C object deps/snowball/CMakeFiles/snowball.dir/src_c/stem_UTF_8_swedish.o\u001b[0m\n",
            "[ 34%] \u001b[32mBuilding C object deps/snowball/CMakeFiles/snowball.dir/src_c/stem_UTF_8_tamil.o\u001b[0m\n",
            "[ 35%] \u001b[32mBuilding C object CMakeFiles/rscore.dir/src/aggregate/reducers/deviation.o\u001b[0m\n",
            "[ 36%] \u001b[32mBuilding C object deps/snowball/CMakeFiles/snowball.dir/src_c/stem_UTF_8_turkish.o\u001b[0m\n",
            "[ 36%] \u001b[32mBuilding C object CMakeFiles/rscore.dir/src/aggregate/reducers/first_value.o\u001b[0m\n",
            "[ 36%] \u001b[32mBuilding C object CMakeFiles/rscore.dir/src/aggregate/reducers/minmax.o\u001b[0m\n",
            "[ 36%] \u001b[32mBuilding C object deps/snowball/CMakeFiles/snowball.dir/src_c/stem_UTF_8_yiddish.o\u001b[0m\n",
            "[ 37%] \u001b[32mBuilding C object CMakeFiles/rscore.dir/src/aggregate/reducers/quantile.o\u001b[0m\n",
            "[ 37%] \u001b[32mBuilding C object CMakeFiles/rscore.dir/src/aggregate/reducers/random_sample.o\u001b[0m\n",
            "[ 37%] Built target snowball\n",
            "[ 37%] \u001b[32mBuilding C object deps/phonetics/CMakeFiles/metaphone.dir/double_metaphone.o\u001b[0m\n",
            "[ 37%] \u001b[32mBuilding C object CMakeFiles/rscore.dir/src/aggregate/reducers/sum.o\u001b[0m\n",
            "[ 38%] \u001b[32mBuilding C object CMakeFiles/rscore.dir/src/aggregate/reducers/to_list.o\u001b[0m\n",
            "[ 38%] Built target metaphone\n",
            "[ 38%] \u001b[32mBuilding CXX object deps/VectorSimilarity/src/VecSim/spaces/CMakeFiles/VectorSimilaritySpaces_no_optimization.dir/L2/L2.cpp.o\u001b[0m\n",
            "[ 38%] \u001b[32mBuilding CXX object deps/VectorSimilarity/src/VecSim/spaces/CMakeFiles/VectorSimilaritySpaces_no_optimization.dir/IP/IP.cpp.o\u001b[0m\n",
            "[ 39%] \u001b[32m\u001b[1mLinking CXX static library libVectorSimilaritySpaces_no_optimization.a\u001b[0m\n",
            "[ 39%] Built target VectorSimilaritySpaces_no_optimization\n",
            "[ 39%] \u001b[32mBuilding CXX object deps/VectorSimilarity/src/VecSim/spaces/CMakeFiles/VectorSimilaritySpaces_avx512.dir/L2/L2_AVX512.cpp.o\u001b[0m\n",
            "[ 39%] \u001b[32mBuilding C object CMakeFiles/rscore.dir/src/alias.o\u001b[0m\n",
            "[ 39%] \u001b[32mBuilding C object CMakeFiles/rscore.dir/src/buffer.o\u001b[0m\n",
            "[ 40%] \u001b[32mBuilding C object CMakeFiles/rscore.dir/src/byte_offsets.o\u001b[0m\n",
            "[ 40%] \u001b[32mBuilding C object CMakeFiles/rscore.dir/src/cndict_loader.o\u001b[0m\n",
            "[ 40%] \u001b[32mBuilding C object CMakeFiles/rscore.dir/src/concurrent_ctx.o\u001b[0m\n",
            "[ 40%] \u001b[32mBuilding CXX object deps/VectorSimilarity/src/VecSim/spaces/CMakeFiles/VectorSimilaritySpaces_avx512.dir/IP/IP_AVX512.cpp.o\u001b[0m\n",
            "[ 40%] \u001b[32mBuilding C object CMakeFiles/rscore.dir/src/config.o\u001b[0m\n",
            "[ 41%] \u001b[32mBuilding C object CMakeFiles/rscore.dir/src/cursor.o\u001b[0m\n",
            "[ 42%] \u001b[32m\u001b[1mLinking CXX static library libVectorSimilaritySpaces_avx512.a\u001b[0m\n",
            "[ 42%] Built target VectorSimilaritySpaces_avx512\n",
            "[ 42%] \u001b[32mBuilding CXX object deps/VectorSimilarity/src/VecSim/spaces/CMakeFiles/VectorSimilaritySpaces_avx.dir/L2/L2_AVX.cpp.o\u001b[0m\n",
            "[ 42%] \u001b[32mBuilding C object CMakeFiles/rscore.dir/src/debug_commads.o\u001b[0m\n",
            "[ 43%] \u001b[32mBuilding CXX object deps/VectorSimilarity/src/VecSim/spaces/CMakeFiles/VectorSimilaritySpaces_avx.dir/IP/IP_AVX.cpp.o\u001b[0m\n",
            "[ 43%] \u001b[32mBuilding C object CMakeFiles/rscore.dir/src/dictionary.o\u001b[0m\n",
            "[ 44%] \u001b[32mBuilding C object CMakeFiles/rscore.dir/src/doc_table.o\u001b[0m\n",
            "[ 44%] \u001b[32m\u001b[1mLinking CXX static library libVectorSimilaritySpaces_avx.a\u001b[0m\n",
            "[ 44%] \u001b[32mBuilding C object CMakeFiles/rscore.dir/src/doc_types.o\u001b[0m\n",
            "[ 44%] Built target VectorSimilaritySpaces_avx\n",
            "[ 44%] \u001b[32mBuilding C object CMakeFiles/rscore.dir/src/document.o\u001b[0m\n",
            "[ 44%] \u001b[32mBuilding CXX object deps/VectorSimilarity/src/VecSim/spaces/CMakeFiles/VectorSimilaritySpaces_sse.dir/L2/L2_SSE.cpp.o\u001b[0m\n",
            "[ 45%] \u001b[32mBuilding C object CMakeFiles/rscore.dir/src/document_add.o\u001b[0m\n",
            "[ 45%] \u001b[32mBuilding CXX object deps/VectorSimilarity/src/VecSim/spaces/CMakeFiles/VectorSimilaritySpaces_sse.dir/IP/IP_SSE.cpp.o\u001b[0m\n",
            "[ 45%] \u001b[32mBuilding C object CMakeFiles/rscore.dir/src/document_basic.o\u001b[0m\n",
            "[ 45%] \u001b[32mBuilding C object CMakeFiles/rscore.dir/src/ext/default.o\u001b[0m\n",
            "[ 46%] \u001b[32m\u001b[1mLinking CXX static library libVectorSimilaritySpaces_sse.a\u001b[0m\n",
            "[ 46%] Built target VectorSimilaritySpaces_sse\n",
            "[ 46%] \u001b[32mBuilding C object deps/rmutil/CMakeFiles/test_args.dir/test_args.o\u001b[0m\n",
            "[ 46%] \u001b[32mBuilding C object CMakeFiles/rscore.dir/src/extension.o\u001b[0m\n",
            "[ 47%] \u001b[32m\u001b[1mLinking C executable test_args\u001b[0m\n",
            "[ 47%] Built target test_args\n",
            "[ 47%] \u001b[32mBuilding C object deps/rmutil/CMakeFiles/test_cmdparse.dir/test_cmdparse.o\u001b[0m\n",
            "[ 48%] \u001b[32mBuilding C object CMakeFiles/rscore.dir/src/field_spec.o\u001b[0m\n",
            "[ 48%] \u001b[32mBuilding C object CMakeFiles/rscore.dir/src/fork_gc.o\u001b[0m\n",
            "[ 48%] \u001b[32m\u001b[1mLinking C executable test_cmdparse\u001b[0m\n",
            "[ 48%] Built target test_cmdparse\n",
            "[ 48%] \u001b[32mBuilding C object deps/rmutil/CMakeFiles/test_heap.dir/test_heap.o\u001b[0m\n",
            "[ 49%] \u001b[32m\u001b[1mLinking C executable test_heap\u001b[0m\n",
            "[ 49%] Built target test_heap\n",
            "[ 50%] \u001b[32mBuilding C object deps/rmutil/CMakeFiles/test_periodic.dir/test_periodic.o\u001b[0m\n",
            "[ 50%] \u001b[32m\u001b[1mLinking C executable test_periodic\u001b[0m\n",
            "[ 50%] Built target test_periodic\n",
            "[ 50%] \u001b[32mBuilding C object deps/rmutil/CMakeFiles/test_priority_queue.dir/test_priority_queue.o\u001b[0m\n",
            "[ 50%] \u001b[32mBuilding C object CMakeFiles/rscore.dir/src/forward_index.o\u001b[0m\n",
            "[ 50%] \u001b[32m\u001b[1mLinking C executable test_priority_queue\u001b[0m\n",
            "[ 50%] Built target test_priority_queue\n",
            "[ 50%] \u001b[32mBuilding C object deps/rmutil/CMakeFiles/test_vector.dir/test_vector.o\u001b[0m\n",
            "[ 50%] \u001b[32m\u001b[1mLinking C executable test_vector\u001b[0m\n",
            "[ 51%] \u001b[32mBuilding C object CMakeFiles/rscore.dir/src/fragmenter.o\u001b[0m\n",
            "[ 51%] Built target test_vector\n",
            "[ 52%] \u001b[32mBuilding C object _deps/cpu_features-build/CMakeFiles/unix_based_hardware_detection.dir/src/hwcaps.c.o\u001b[0m\n",
            "[ 52%] Built target unix_based_hardware_detection\n",
            "[ 52%] \u001b[32mBuilding CXX object deps/googletest/googletest/CMakeFiles/gtest.dir/src/gtest-all.cc.o\u001b[0m\n",
            "[ 52%] \u001b[32mBuilding C object CMakeFiles/rscore.dir/src/gc.o\u001b[0m\n",
            "[ 52%] \u001b[32mBuilding C object CMakeFiles/rscore.dir/src/geo_index.o\u001b[0m\n",
            "[ 53%] \u001b[32mBuilding C object CMakeFiles/rscore.dir/src/highlight_processor.o\u001b[0m\n",
            "[ 53%] \u001b[32mBuilding C object CMakeFiles/rscore.dir/src/hll/hll.o\u001b[0m\n",
            "[ 53%] \u001b[32mBuilding C object CMakeFiles/rscore.dir/src/hybrid_reader.o\u001b[0m\n",
            "[ 53%] \u001b[32mBuilding C object CMakeFiles/rscore.dir/src/id_list.o\u001b[0m\n",
            "[ 54%] \u001b[32mBuilding C object CMakeFiles/rscore.dir/src/index.o\u001b[0m\n",
            "[ 54%] \u001b[32mBuilding C object CMakeFiles/rscore.dir/src/index_result.o\u001b[0m\n",
            "[ 54%] \u001b[32mBuilding C object CMakeFiles/rscore.dir/src/indexer.o\u001b[0m\n",
            "[ 55%] \u001b[32mBuilding C object CMakeFiles/rscore.dir/src/info_command.o\u001b[0m\n",
            "[ 55%] \u001b[32mBuilding C object CMakeFiles/rscore.dir/src/inverted_index.o\u001b[0m\n",
            "[ 55%] \u001b[32mBuilding C object CMakeFiles/rscore.dir/src/json.o\u001b[0m\n",
            "[ 56%] \u001b[32mBuilding C object CMakeFiles/rscore.dir/src/language.o\u001b[0m\n",
            "[ 56%] \u001b[32mBuilding C object CMakeFiles/rscore.dir/src/legacy_gc.o\u001b[0m\n",
            "[ 56%] \u001b[32mBuilding C object CMakeFiles/rscore.dir/src/module.o\u001b[0m\n",
            "[ 57%] \u001b[32mBuilding C object CMakeFiles/rscore.dir/src/notifications.o\u001b[0m\n",
            "[ 57%] \u001b[32mBuilding C object CMakeFiles/rscore.dir/src/numeric_filter.o\u001b[0m\n",
            "[ 57%] \u001b[32mBuilding C object CMakeFiles/rscore.dir/src/numeric_index.o\u001b[0m\n",
            "[ 57%] \u001b[32mBuilding C object CMakeFiles/rscore.dir/src/offset_vector.o\u001b[0m\n",
            "[ 58%] \u001b[32mBuilding C object CMakeFiles/rscore.dir/src/param.o\u001b[0m\n",
            "[ 58%] \u001b[32mBuilding C object CMakeFiles/rscore.dir/src/phonetic_manager.o\u001b[0m\n",
            "[ 58%] \u001b[32mBuilding C object CMakeFiles/rscore.dir/src/print_version.o\u001b[0m\n",
            "[ 59%] \u001b[32mBuilding C object CMakeFiles/rscore.dir/src/profile.o\u001b[0m\n",
            "[ 59%] \u001b[32mBuilding C object CMakeFiles/rscore.dir/src/qint.o\u001b[0m\n",
            "[ 59%] \u001b[32mBuilding C object CMakeFiles/rscore.dir/src/query.o\u001b[0m\n",
            "[ 60%] \u001b[32mBuilding C object CMakeFiles/rscore.dir/src/query_error.o\u001b[0m\n",
            "[ 60%] \u001b[32mBuilding C object CMakeFiles/rscore.dir/src/query_param.o\u001b[0m\n",
            "[ 60%] \u001b[32mBuilding C object CMakeFiles/rscore.dir/src/query_parser/v1/lexer.o\u001b[0m\n",
            "[ 60%] \u001b[32mBuilding C object CMakeFiles/rscore.dir/src/query_parser/v1/parser.o\u001b[0m\n",
            "[ 61%] \u001b[32mBuilding C object CMakeFiles/rscore.dir/src/query_parser/v2/lexer.o\u001b[0m\n",
            "[ 61%] \u001b[32mBuilding C object CMakeFiles/rscore.dir/src/query_parser/v2/parser.o\u001b[0m\n",
            "[ 61%] \u001b[32mBuilding C object CMakeFiles/rscore.dir/src/rdb.o\u001b[0m\n",
            "[ 62%] \u001b[32mBuilding C object CMakeFiles/rscore.dir/src/redis_index.o\u001b[0m\n",
            "[ 62%] \u001b[32mBuilding C object CMakeFiles/rscore.dir/src/redisearch_api.o\u001b[0m\n",
            "[ 62%] \u001b[32mBuilding C object CMakeFiles/rscore.dir/src/result_processor.o\u001b[0m\n",
            "[ 63%] \u001b[32mBuilding C object CMakeFiles/rscore.dir/src/rlookup.o\u001b[0m\n",
            "[ 63%] \u001b[32mBuilding C object CMakeFiles/rscore.dir/src/rs_geo.o\u001b[0m\n",
            "[ 63%] \u001b[32mBuilding C object CMakeFiles/rscore.dir/src/rules.o\u001b[0m\n",
            "[ 63%] \u001b[32mBuilding C object CMakeFiles/rscore.dir/src/rwlock.o\u001b[0m\n",
            "[ 64%] \u001b[32mBuilding C object CMakeFiles/rscore.dir/src/score_explain.o\u001b[0m\n",
            "[ 64%] \u001b[32mBuilding C object CMakeFiles/rscore.dir/src/sortable.o\u001b[0m\n",
            "[ 64%] \u001b[32mBuilding C object CMakeFiles/rscore.dir/src/spec.o\u001b[0m\n",
            "[ 65%] \u001b[32mBuilding C object CMakeFiles/rscore.dir/src/spell_check.o\u001b[0m\n",
            "[ 65%] \u001b[32mBuilding C object CMakeFiles/rscore.dir/src/stemmer.o\u001b[0m\n",
            "[ 65%] \u001b[32mBuilding C object CMakeFiles/rscore.dir/src/stopwords.o\u001b[0m\n",
            "[ 66%] \u001b[32mBuilding C object CMakeFiles/rscore.dir/src/suggest.o\u001b[0m\n",
            "[ 66%] \u001b[32mBuilding C object CMakeFiles/rscore.dir/src/summarize_spec.o\u001b[0m\n",
            "[ 66%] \u001b[32mBuilding C object CMakeFiles/rscore.dir/src/synonym_map.o\u001b[0m\n",
            "[ 67%] \u001b[32mBuilding C object CMakeFiles/rscore.dir/src/tag_index.o\u001b[0m\n",
            "[ 67%] \u001b[32mBuilding C object CMakeFiles/rscore.dir/src/tokenize.o\u001b[0m\n",
            "[ 67%] \u001b[32mBuilding C object CMakeFiles/rscore.dir/src/tokenize_cn.o\u001b[0m\n",
            "[ 67%] \u001b[32mBuilding C object CMakeFiles/rscore.dir/src/trie/levenshtein.o\u001b[0m\n",
            "[ 68%] \u001b[32mBuilding C object CMakeFiles/rscore.dir/src/trie/rune_util.o\u001b[0m\n",
            "[ 68%] \u001b[32mBuilding C object CMakeFiles/rscore.dir/src/trie/sparse_vector.o\u001b[0m\n",
            "[ 68%] \u001b[32mBuilding C object CMakeFiles/rscore.dir/src/trie/trie.o\u001b[0m\n",
            "[ 68%] \u001b[32m\u001b[1mLinking CXX static library ../../../lib/libgtest.a\u001b[0m\n",
            "[ 69%] \u001b[32mBuilding C object CMakeFiles/rscore.dir/src/trie/trie_type.o\u001b[0m\n",
            "[ 69%] Built target gtest\n",
            "[ 69%] \u001b[32mBuilding C object example_extension/CMakeFiles/example_extension.dir/example.o\u001b[0m\n",
            "[ 69%] \u001b[32m\u001b[1mLinking C shared library libexample_extension.so\u001b[0m\n",
            "[ 69%] Built target example_extension\n",
            "[ 69%] \u001b[32mBuilding CXX object tests/cpptests/redismock/CMakeFiles/redismock.dir/redismock.o\u001b[0m\n",
            "[ 69%] \u001b[32mBuilding C object CMakeFiles/rscore.dir/src/util/arr.o\u001b[0m\n",
            "[ 69%] \u001b[32mBuilding C object CMakeFiles/rscore.dir/src/util/array.o\u001b[0m\n",
            "[ 70%] \u001b[32mBuilding C object CMakeFiles/rscore.dir/src/util/block_alloc.o\u001b[0m\n",
            "[ 70%] \u001b[32mBuilding C object CMakeFiles/rscore.dir/src/util/dict.o\u001b[0m\n",
            "[ 70%] \u001b[32mBuilding C object CMakeFiles/rscore.dir/src/util/fnv.o\u001b[0m\n",
            "[ 70%] \u001b[32mBuilding C object CMakeFiles/rscore.dir/src/util/heap.o\u001b[0m\n",
            "[ 71%] \u001b[32mBuilding C object CMakeFiles/rscore.dir/src/util/khtable.o\u001b[0m\n",
            "[ 71%] \u001b[32mBuilding C object CMakeFiles/rscore.dir/src/util/logging.o\u001b[0m\n",
            "[ 71%] \u001b[32mBuilding C object CMakeFiles/rscore.dir/src/util/mempool.o\u001b[0m\n",
            "[ 72%] \u001b[32mBuilding C object CMakeFiles/rscore.dir/src/util/minmax_heap.o\u001b[0m\n",
            "[ 72%] \u001b[32mBuilding C object CMakeFiles/rscore.dir/src/util/misc.o\u001b[0m\n",
            "[ 72%] \u001b[32mBuilding C object CMakeFiles/rscore.dir/src/util/quantile.o\u001b[0m\n",
            "[ 73%] \u001b[32mBuilding C object CMakeFiles/rscore.dir/src/value.o\u001b[0m\n",
            "[ 73%] \u001b[32mBuilding C object CMakeFiles/rscore.dir/src/varint.o\u001b[0m\n",
            "[ 73%] \u001b[32mBuilding C object CMakeFiles/rscore.dir/src/vector_index.o\u001b[0m\n",
            "[ 73%] Built target rscore\n",
            "[ 73%] \u001b[32mBuilding CXX object tests/cpptests/redismock/CMakeFiles/redismock.dir/util.o\u001b[0m\n",
            "[ 74%] \u001b[32mBuilding C object tests/c_utils/CMakeFiles/apistubs.dir/api_stubs.o\u001b[0m\n",
            "[ 74%] \u001b[32m\u001b[1mLinking C static library libapistubs.a\u001b[0m\n",
            "[ 74%] Built target apistubs\n",
            "[ 74%] \u001b[32mBuilding C object _deps/cpu_features-build/CMakeFiles/cpu_features.dir/src/impl_aarch64_linux_or_android.c.o\u001b[0m\n",
            "[ 74%] \u001b[32mBuilding C object _deps/cpu_features-build/CMakeFiles/cpu_features.dir/src/impl_arm_linux_or_android.c.o\u001b[0m\n",
            "[ 75%] \u001b[32mBuilding C object _deps/cpu_features-build/CMakeFiles/cpu_features.dir/src/impl_mips_linux_or_android.c.o\u001b[0m\n",
            "[ 75%] \u001b[32mBuilding C object _deps/cpu_features-build/CMakeFiles/cpu_features.dir/src/impl_ppc_linux.c.o\u001b[0m\n",
            "[ 75%] \u001b[32mBuilding C object _deps/cpu_features-build/CMakeFiles/cpu_features.dir/src/impl_x86_freebsd.c.o\u001b[0m\n",
            "[ 76%] \u001b[32mBuilding C object _deps/cpu_features-build/CMakeFiles/cpu_features.dir/src/impl_x86_linux_or_android.c.o\u001b[0m\n",
            "[ 76%] \u001b[32mBuilding C object _deps/cpu_features-build/CMakeFiles/cpu_features.dir/src/impl_x86_macos.c.o\u001b[0m\n",
            "[ 76%] \u001b[32mBuilding C object _deps/cpu_features-build/CMakeFiles/cpu_features.dir/src/impl_x86_windows.c.o\u001b[0m\n",
            "[ 78%] \u001b[32m\u001b[1mLinking CXX static library libredismock.a\u001b[0m\n",
            "[ 78%] \u001b[32m\u001b[1mLinking C static library libcpu_features.a\u001b[0m\n",
            "[ 78%] Built target cpu_features\n",
            "[ 79%] \u001b[32mBuilding CXX object deps/googletest/googletest/CMakeFiles/gtest_main.dir/src/gtest_main.cc.o\u001b[0m\n",
            "[ 79%] Built target redismock\n",
            "[ 79%] \u001b[32mBuilding CXX object deps/VectorSimilarity/src/VecSim/spaces/CMakeFiles/VectorSimilaritySpaces.dir/space_aux.cpp.o\u001b[0m\n",
            "[ 79%] \u001b[32mBuilding CXX object deps/VectorSimilarity/src/VecSim/spaces/CMakeFiles/VectorSimilaritySpaces.dir/L2_space.cpp.o\u001b[0m\n",
            "[ 79%] \u001b[32m\u001b[1mLinking CXX static library ../../../lib/libgtest_main.a\u001b[0m\n",
            "[ 79%] Built target gtest_main\n",
            "[ 79%] \u001b[32mBuilding C object _deps/cpu_features-build/CMakeFiles/list_cpu_features.dir/src/utils/list_cpu_features.c.o\u001b[0m\n",
            "[ 80%] \u001b[32mBuilding CXX object deps/VectorSimilarity/src/VecSim/spaces/CMakeFiles/VectorSimilaritySpaces.dir/IP_space.cpp.o\u001b[0m\n",
            "\u001b[01m\u001b[K/content/RediSearch/bin/linux-x64-release/search/_deps/cpu_features-src/src/utils/list_cpu_features.c:\u001b[m\u001b[K In function ‘\u001b[01m\u001b[KCreateTree\u001b[m\u001b[K’:\n",
            "\u001b[01m\u001b[K/content/RediSearch/bin/linux-x64-release/search/_deps/cpu_features-src/src/utils/list_cpu_features.c:369:3:\u001b[m\u001b[K \u001b[01;35m\u001b[Kwarning: \u001b[m\u001b[K‘\u001b[01m\u001b[KFillX86BrandString\u001b[m\u001b[K’ is deprecated: brand_string is now embedded in X86Info by default [\u001b[01;35m\u001b[K\u001b]8;;https://gcc.gnu.org/onlinedocs/gcc/Warning-Options.html#index-Wdeprecated-declarations\u0007-Wdeprecated-declarations\u001b]8;;\u0007\u001b[m\u001b[K]\n",
            "  369 |   \u001b[01;35m\u001b[KFillX86BrandString\u001b[m\u001b[K(brand_string);\n",
            "      |   \u001b[01;35m\u001b[K^~~~~~~~~~~~~~~~~~\u001b[m\u001b[K\n",
            "In file included from \u001b[01m\u001b[K/content/RediSearch/bin/linux-x64-release/search/_deps/cpu_features-src/src/utils/list_cpu_features.c:29\u001b[m\u001b[K:\n",
            "\u001b[01m\u001b[K/content/RediSearch/bin/linux-x64-release/search/_deps/cpu_features-src/include/cpuinfo_x86.h:181:6:\u001b[m\u001b[K \u001b[01;36m\u001b[Knote: \u001b[m\u001b[Kdeclared here\n",
            "  181 | void \u001b[01;36m\u001b[KFillX86BrandString\u001b[m\u001b[K(char brand_string[49]);\n",
            "      |      \u001b[01;36m\u001b[K^~~~~~~~~~~~~~~~~~\u001b[m\u001b[K\n",
            "[ 81%] \u001b[32m\u001b[1mLinking C executable list_cpu_features\u001b[0m\n",
            "[ 81%] Built target list_cpu_features\n",
            "[ 81%] \u001b[32m\u001b[1mLinking CXX static library libVectorSimilaritySpaces.a\u001b[0m\n",
            "[ 81%] Built target VectorSimilaritySpaces\n",
            "[ 81%] \u001b[32mBuilding CXX object deps/VectorSimilarity/src/CMakeFiles/VectorSimilarity.dir/VecSim/algorithms/brute_force/brute_force.cpp.o\u001b[0m\n",
            "[ 81%] \u001b[32mBuilding CXX object deps/VectorSimilarity/src/CMakeFiles/VectorSimilarity.dir/VecSim/algorithms/brute_force/vector_block.cpp.o\u001b[0m\n",
            "[ 81%] \u001b[32mBuilding CXX object deps/VectorSimilarity/src/CMakeFiles/VectorSimilarity.dir/VecSim/algorithms/hnsw/visited_nodes_handler.cpp.o\u001b[0m\n",
            "[ 82%] \u001b[32mBuilding CXX object deps/VectorSimilarity/src/CMakeFiles/VectorSimilarity.dir/VecSim/algorithms/hnsw/hnsw_wrapper.cpp.o\u001b[0m\n",
            "[ 82%] \u001b[32mBuilding CXX object deps/VectorSimilarity/src/CMakeFiles/VectorSimilarity.dir/VecSim/vec_sim.cpp.o\u001b[0m\n",
            "[ 82%] \u001b[32mBuilding CXX object deps/VectorSimilarity/src/CMakeFiles/VectorSimilarity.dir/VecSim/query_results.cpp.o\u001b[0m\n",
            "[ 83%] \u001b[32mBuilding CXX object deps/VectorSimilarity/src/CMakeFiles/VectorSimilarity.dir/VecSim/info_iterator.cpp.o\u001b[0m\n",
            "[ 83%] \u001b[32mBuilding CXX object deps/VectorSimilarity/src/CMakeFiles/VectorSimilarity.dir/VecSim/query_result_struct.cpp.o\u001b[0m\n",
            "[ 83%] \u001b[32mBuilding CXX object deps/VectorSimilarity/src/CMakeFiles/VectorSimilarity.dir/VecSim/utils/vec_utils.cpp.o\u001b[0m\n",
            "[ 84%] \u001b[32mBuilding CXX object deps/VectorSimilarity/src/CMakeFiles/VectorSimilarity.dir/VecSim/memory/vecsim_malloc.cpp.o\u001b[0m\n",
            "[ 84%] \u001b[32mBuilding CXX object deps/VectorSimilarity/src/CMakeFiles/VectorSimilarity.dir/VecSim/memory/vecsim_base.cpp.o\u001b[0m\n",
            "[ 84%] \u001b[32mBuilding CXX object deps/VectorSimilarity/src/CMakeFiles/VectorSimilarity.dir/VecSim/algorithms/brute_force/bf_batch_iterator.cpp.o\u001b[0m\n",
            "[ 84%] \u001b[32mBuilding CXX object deps/VectorSimilarity/src/CMakeFiles/VectorSimilarity.dir/VecSim/algorithms/hnsw/hnsw_batch_iterator.cpp.o\u001b[0m\n",
            "[ 85%] \u001b[32m\u001b[1mLinking CXX static library libVectorSimilarity.a\u001b[0m\n",
            "[ 85%] Built target VectorSimilarity\n",
            "[ 85%] \u001b[32mBuilding C object CMakeFiles/redisearch.dir/src/module-init/module-init.o\u001b[0m\n",
            "[ 86%] \u001b[32m\u001b[1mLinking CXX shared library redisearch.so\u001b[0m\n",
            "[ 86%] Built target redisearch\n",
            "[ 86%] \u001b[32mBuilding CXX object tests/cpptests/CMakeFiles/rsbench.dir/benchmark_vecsim_hybrid_queries.o\u001b[0m\n",
            "[ 86%] \u001b[32mBuilding CXX object tests/cpptests/CMakeFiles/rstest.dir/test_cpp_agg.o\u001b[0m\n",
            "[ 86%] \u001b[32mBuilding CXX object tests/cpptests/CMakeFiles/rsbench.dir/index_utils.o\u001b[0m\n",
            "[ 86%] \u001b[32m\u001b[1mLinking CXX executable rsbench\u001b[0m\n",
            "[ 86%] Built target rsbench\n",
            "[ 86%] \u001b[32mBuilding C object tests/ctests/CMakeFiles/test_array.dir/test_array.o\u001b[0m\n",
            "[ 86%] \u001b[32m\u001b[1mLinking CXX executable test_array\u001b[0m\n",
            "[ 87%] \u001b[32mBuilding CXX object tests/cpptests/CMakeFiles/rstest.dir/test_cpp_arr.o\u001b[0m\n",
            "[ 87%] Built target test_array\n",
            "[ 88%] \u001b[32mBuilding C object tests/ctests/CMakeFiles/test_blkalloc.dir/test_blkalloc.o\u001b[0m\n",
            "[ 88%] \u001b[32m\u001b[1mLinking CXX executable test_blkalloc\u001b[0m\n",
            "[ 88%] Built target test_blkalloc\n",
            "[ 89%] \u001b[32mBuilding C object tests/ctests/CMakeFiles/test_cntokenize.dir/test_cntokenize.o\u001b[0m\n",
            "[ 89%] \u001b[32m\u001b[1mLinking CXX executable test_cntokenize\u001b[0m\n",
            "[ 89%] Built target test_cntokenize\n",
            "[ 89%] \u001b[32mBuilding C object tests/ctests/CMakeFiles/test_khtable.dir/test_khtable.o\u001b[0m\n",
            "[ 89%] \u001b[32m\u001b[1mLinking CXX executable test_khtable\u001b[0m\n",
            "[ 89%] Built target test_khtable\n",
            "[ 90%] \u001b[32mBuilding C object tests/ctests/CMakeFiles/test_qint.dir/test_qint.o\u001b[0m\n",
            "[ 90%] \u001b[32m\u001b[1mLinking CXX executable test_qint\u001b[0m\n",
            "[ 90%] Built target test_qint\n",
            "[ 90%] \u001b[32mBuilding C object tests/ctests/CMakeFiles/test_quantile.dir/test_quantile.o\u001b[0m\n",
            "[ 91%] \u001b[32m\u001b[1mLinking CXX executable test_quantile\u001b[0m\n",
            "[ 91%] Built target test_quantile\n",
            "[ 91%] \u001b[32mBuilding C object tests/ctests/CMakeFiles/test_stemmer.dir/test_stemmer.o\u001b[0m\n",
            "[ 91%] \u001b[32m\u001b[1mLinking CXX executable test_stemmer\u001b[0m\n",
            "[ 91%] Built target test_stemmer\n",
            "[ 92%] \u001b[32mBuilding C object tests/ctests/CMakeFiles/test_stopwords.dir/test_stopwords.o\u001b[0m\n",
            "[ 92%] \u001b[32m\u001b[1mLinking CXX executable test_stopwords\u001b[0m\n",
            "[ 92%] Built target test_stopwords\n",
            "[ 92%] \u001b[32mBuilding C object tests/ctests/CMakeFiles/test_summarize.dir/test_summarize.o\u001b[0m\n",
            "[ 92%] \u001b[32m\u001b[1mLinking CXX executable test_summarize\u001b[0m\n",
            "[ 92%] Built target test_summarize\n",
            "[ 93%] \u001b[32mBuilding C object tests/ctests/CMakeFiles/test_synonym_map.dir/test_synonym_map.o\u001b[0m\n",
            "[ 93%] \u001b[32m\u001b[1mLinking CXX executable test_synonym_map\u001b[0m\n",
            "[ 93%] Built target test_synonym_map\n",
            "[ 93%] \u001b[32mBuilding C object tests/ctests/CMakeFiles/test_trie.dir/test_trie.o\u001b[0m\n",
            "[ 93%] \u001b[32mBuilding CXX object tests/cpptests/CMakeFiles/rstest.dir/test_cpp_document.o\u001b[0m\n",
            "[ 94%] \u001b[32m\u001b[1mLinking CXX executable test_trie\u001b[0m\n",
            "[ 94%] Built target test_trie\n",
            "[ 94%] \u001b[32mBuilding CXX object tests/c_utils/CMakeFiles/sizes.dir/sizes.o\u001b[0m\n",
            "[ 95%] \u001b[32m\u001b[1mLinking CXX executable sizes\u001b[0m\n",
            "[ 95%] Built target sizes\n",
            "[ 95%] \u001b[32mBuilding CXX object tests/c_utils/CMakeFiles/apibench.dir/apibench.o\u001b[0m\n",
            "[ 95%] \u001b[32m\u001b[1mLinking CXX executable apibench\u001b[0m\n",
            "[ 95%] Built target apibench\n",
            "[ 95%] \u001b[32mBuilding CXX object tests/cpptests/CMakeFiles/rstest.dir/test_cpp_expr.o\u001b[0m\n",
            "[ 96%] \u001b[32mBuilding CXX object tests/cpptests/CMakeFiles/rstest.dir/test_cpp_extensions.o\u001b[0m\n",
            "[ 96%] \u001b[32mBuilding CXX object tests/cpptests/CMakeFiles/rstest.dir/test_cpp_forkgc.o\u001b[0m\n",
            "[ 96%] \u001b[32mBuilding CXX object tests/cpptests/CMakeFiles/rstest.dir/test_cpp_index.o\u001b[0m\n",
            "[ 97%] \u001b[32mBuilding CXX object tests/cpptests/CMakeFiles/rstest.dir/test_cpp_llapi.o\u001b[0m\n",
            "[ 97%] \u001b[32mBuilding CXX object tests/cpptests/CMakeFiles/rstest.dir/test_cpp_query.o\u001b[0m\n",
            "[ 97%] \u001b[32mBuilding CXX object tests/cpptests/CMakeFiles/rstest.dir/test_cpp_range.o\u001b[0m\n",
            "[ 98%] \u001b[32mBuilding CXX object tests/cpptests/CMakeFiles/rstest.dir/test_cpp_resultprocessor.o\u001b[0m\n",
            "[ 98%] \u001b[32mBuilding CXX object tests/cpptests/CMakeFiles/rstest.dir/test_cpp_rlookup.o\u001b[0m\n",
            "[ 98%] \u001b[32mBuilding CXX object tests/cpptests/CMakeFiles/rstest.dir/test_cpp_tagindex.o\u001b[0m\n",
            "[ 98%] \u001b[32mBuilding CXX object tests/cpptests/CMakeFiles/rstest.dir/test_cpp_tokenizer.o\u001b[0m\n",
            "[ 99%] \u001b[32mBuilding CXX object tests/cpptests/CMakeFiles/rstest.dir/test_cpp_trie.o\u001b[0m\n",
            "[ 99%] \u001b[32mBuilding CXX object tests/cpptests/CMakeFiles/rstest.dir/test_cpp_value.o\u001b[0m\n",
            "[ 99%] \u001b[32mBuilding CXX object tests/cpptests/CMakeFiles/rstest.dir/common.o\u001b[0m\n",
            "[100%] \u001b[32mBuilding CXX object tests/cpptests/CMakeFiles/rstest.dir/index_utils.o\u001b[0m\n",
            "[100%] \u001b[32m\u001b[1mLinking CXX executable rstest\u001b[0m\n",
            "[100%] Built target rstest\n"
          ]
        }
      ]
    },
    {
      "cell_type": "markdown",
      "source": [
        "redisearch.soの場所を確認して、RediSearchモジュールをロードします。"
      ],
      "metadata": {
        "id": "MDAQWJqatm89"
      }
    },
    {
      "cell_type": "code",
      "source": [
        "!find /content/RediSearch -name redisearch.so"
      ],
      "metadata": {
        "colab": {
          "base_uri": "https://localhost:8080/"
        },
        "id": "G381x05nf3sR",
        "outputId": "59d8ff4b-8814-4f63-f67c-7ea0212e5ffa"
      },
      "execution_count": 9,
      "outputs": [
        {
          "output_type": "stream",
          "name": "stdout",
          "text": [
            "/content/RediSearch/bin/linux-x64-release/search/redisearch.so\n"
          ]
        }
      ]
    },
    {
      "cell_type": "code",
      "source": [
        "!redis-cli module load /content/RediSearch/bin/linux-x64-release/search/redisearch.so"
      ],
      "metadata": {
        "colab": {
          "base_uri": "https://localhost:8080/"
        },
        "id": "yyufYq6ptMyN",
        "outputId": "a7d2588b-0a81-4860-92fb-03018b0c6ca0"
      },
      "execution_count": 10,
      "outputs": [
        {
          "output_type": "stream",
          "name": "stdout",
          "text": [
            "OK\n"
          ]
        }
      ]
    },
    {
      "cell_type": "markdown",
      "source": [
        "## データのインポート"
      ],
      "metadata": {
        "id": "kwt8q3fdsiDI"
      }
    },
    {
      "cell_type": "markdown",
      "source": [
        "Pythonのredisearchモジュールをインストールします。"
      ],
      "metadata": {
        "id": "77tmKUn3t3Za"
      }
    },
    {
      "cell_type": "code",
      "source": [
        "!pip install redisearch"
      ],
      "metadata": {
        "id": "tQ4now_hJozc",
        "colab": {
          "base_uri": "https://localhost:8080/",
          "height": 657
        },
        "outputId": "8f1105ba-2030-4faf-a48c-06b08afd7f45"
      },
      "execution_count": 11,
      "outputs": [
        {
          "output_type": "stream",
          "name": "stdout",
          "text": [
            "Collecting redisearch\n",
            "  Downloading redisearch-2.1.1-py3-none-any.whl (26 kB)\n",
            "Collecting hiredis<3.0.0,>=2.0.0\n",
            "  Downloading hiredis-2.0.0-cp37-cp37m-manylinux2010_x86_64.whl (85 kB)\n",
            "\u001b[K     |████████████████████████████████| 85 kB 2.7 MB/s \n",
            "\u001b[?25hCollecting rejson<0.6.0,>=0.5.4\n",
            "  Downloading rejson-0.5.6-py3-none-any.whl (8.9 kB)\n",
            "Collecting six<2.0.0,>=1.16.0\n",
            "  Downloading six-1.16.0-py2.py3-none-any.whl (11 kB)\n",
            "Collecting redis==3.5.3\n",
            "  Downloading redis-3.5.3-py2.py3-none-any.whl (72 kB)\n",
            "\u001b[K     |████████████████████████████████| 72 kB 425 kB/s \n",
            "\u001b[?25hInstalling collected packages: six, redis, rejson, hiredis, redisearch\n",
            "  Attempting uninstall: six\n",
            "    Found existing installation: six 1.15.0\n",
            "    Uninstalling six-1.15.0:\n",
            "      Successfully uninstalled six-1.15.0\n",
            "  Attempting uninstall: redis\n",
            "    Found existing installation: redis 4.2.2\n",
            "    Uninstalling redis-4.2.2:\n",
            "      Successfully uninstalled redis-4.2.2\n",
            "\u001b[31mERROR: pip's dependency resolver does not currently take into account all the packages that are installed. This behaviour is the source of the following dependency conflicts.\n",
            "tensorflow 2.8.0 requires tf-estimator-nightly==2.8.0.dev2021122109, which is not installed.\n",
            "rltest 0.5.4 requires redis<5.0.0,>=4.1.2, but you have redis 3.5.3 which is incompatible.\n",
            "ramp-packer 2.3.0 requires redis<5.0.0,>=4.1.0, but you have redis 3.5.3 which is incompatible.\n",
            "google-colab 1.0.0 requires six~=1.15.0, but you have six 1.16.0 which is incompatible.\n",
            "datascience 0.10.6 requires coverage==3.7.1, but you have coverage 6.3.2 which is incompatible.\n",
            "datascience 0.10.6 requires folium==0.2.1, but you have folium 0.8.3 which is incompatible.\n",
            "albumentations 0.1.12 requires imgaug<0.2.7,>=0.2.5, but you have imgaug 0.2.9 which is incompatible.\u001b[0m\n",
            "Successfully installed hiredis-2.0.0 redis-3.5.3 redisearch-2.1.1 rejson-0.5.6 six-1.16.0\n"
          ]
        },
        {
          "output_type": "display_data",
          "data": {
            "application/vnd.colab-display-data+json": {
              "pip_warning": {
                "packages": [
                  "six"
                ]
              }
            }
          },
          "metadata": {}
        }
      ]
    },
    {
      "cell_type": "markdown",
      "source": [
        "50万件のデータをインポートします。RediSearchには日本語を分割する機能がないので、一文字づつスペースで区切った形でインポートします。"
      ],
      "metadata": {
        "id": "KPtmwa7ruBjU"
      }
    },
    {
      "cell_type": "code",
      "source": [
        "from redisearch import Client, TextField, NumericField, Query\n",
        "client = Client('myIndex')\n",
        "client.create_index([TextField('body')])"
      ],
      "metadata": {
        "colab": {
          "base_uri": "https://localhost:8080/",
          "height": 38
        },
        "id": "eT4SKWGWbI7e",
        "outputId": "ee13f476-fa06-41cf-9a48-5774570695a3"
      },
      "execution_count": 12,
      "outputs": [
        {
          "output_type": "execute_result",
          "data": {
            "text/plain": [
              "'OK'"
            ],
            "application/vnd.google.colaboratory.intrinsic+json": {
              "type": "string"
            }
          },
          "metadata": {},
          "execution_count": 12
        }
      ]
    },
    {
      "cell_type": "code",
      "source": [
        "%%time \n",
        "\n",
        "import json\n",
        "import bz2\n",
        "from tqdm.notebook import tqdm\n",
        "\n",
        "limit = 500000\n",
        "with bz2.open('/content/drive/MyDrive/wiki.json.bz2', 'rt', encoding='utf-8') as fin:\n",
        "    n = 0\n",
        "    for line in tqdm(fin, total=limit*1.5):\n",
        "        data = json.loads(line)\n",
        "        title = data['title'].strip()\n",
        "        body = data['text'].replace('\\n', '')\n",
        "        if len(title) > 0 and len(body) > 0:\n",
        "            client.add_document(\"doc_{}\".format(n), title=title, body=' '.join(body))\n",
        "            n += 1\n",
        "        if n == limit:\n",
        "            break\n"
      ],
      "metadata": {
        "colab": {
          "base_uri": "https://localhost:8080/",
          "height": 86,
          "referenced_widgets": [
            "d1f7e5476a574e0bbe9a9b15216df2c4",
            "ad8876fec2f4458db3205807ff7731cc",
            "012902fc53474ec6ba5e901c31d23b41",
            "1b5530a362594e03968663aacab21a19",
            "a7a078c9892148f7a1ccf9e2ee726809",
            "0034538916654d9084a3868c05f43447",
            "7ddc89cef6a84f7a8ec230e1546663c3",
            "13afd3f17cce46d98724feda265b5d81",
            "6c6fd2ac97a749c59b1a0c54fd02030f",
            "b39eed2085ef4808b1631547f206282b",
            "10c4aea7f7274fa4887ded2868c03f3a"
          ]
        },
        "id": "k4Q8Xf1pyNlf",
        "outputId": "79e7e0f5-66c5-4e8f-e7af-6fb40dd65c90"
      },
      "execution_count": 13,
      "outputs": [
        {
          "output_type": "display_data",
          "data": {
            "text/plain": [
              "  0%|          | 0/750000.0 [00:00<?, ?it/s]"
            ],
            "application/vnd.jupyter.widget-view+json": {
              "version_major": 2,
              "version_minor": 0,
              "model_id": "d1f7e5476a574e0bbe9a9b15216df2c4"
            }
          },
          "metadata": {}
        },
        {
          "output_type": "stream",
          "name": "stdout",
          "text": [
            "CPU times: user 8min 45s, sys: 40.9 s, total: 9min 26s\n",
            "Wall time: 16min 40s\n"
          ]
        }
      ]
    },
    {
      "cell_type": "markdown",
      "source": [
        "## 検索"
      ],
      "metadata": {
        "id": "Gu9aN9fX_pYy"
      }
    },
    {
      "cell_type": "markdown",
      "source": [
        "1回目の検索。検索文字列は\"日 本 語\"のようにスペースで区切って指定します。in_order()は\"日\",\"本\",\"語\"を順番通りに並ばせる指定、slop(0)はこれらの文字の間になにも入らない指定、paging(0, 20000)は2万件以下を一気に検索する指定です。"
      ],
      "metadata": {
        "id": "faIgl0P1uNIs"
      }
    },
    {
      "cell_type": "code",
      "source": [
        "%%time\n",
        "query = Query(\"日 本 語\").in_order().slop(0).paging(0, 20000)\n",
        "res = client.search(query)\n",
        "print('total:', res.total, 'time:', '{:.2f} sec'.format(res.duration / 1000))"
      ],
      "metadata": {
        "colab": {
          "base_uri": "https://localhost:8080/"
        },
        "id": "MQhB1jjm1wRN",
        "outputId": "b1fb9dcb-2b1b-44d1-eb4b-61c0d826e332"
      },
      "execution_count": 14,
      "outputs": [
        {
          "output_type": "stream",
          "name": "stdout",
          "text": [
            "total: 17007 time: 1.25 sec\n",
            "CPU times: user 770 ms, sys: 216 ms, total: 986 ms\n",
            "Wall time: 1.41 s\n"
          ]
        }
      ]
    },
    {
      "cell_type": "markdown",
      "source": [
        "検索結果数も他と合っているので、正しく検索できているようです。"
      ],
      "metadata": {
        "id": "En7ofe4T2dNI"
      }
    },
    {
      "cell_type": "markdown",
      "source": [
        "2回目の検索。"
      ],
      "metadata": {
        "id": "uzJZxiXmvYOT"
      }
    },
    {
      "cell_type": "code",
      "source": [
        "%%time\n",
        "query = Query(\"日 本 語\").in_order().slop(0).paging(0, 20000)\n",
        "res = client.search(query)\n",
        "print('total:', res.total, 'time:', '{:.2f} sec'.format(res.duration / 1000))"
      ],
      "metadata": {
        "colab": {
          "base_uri": "https://localhost:8080/"
        },
        "id": "qIdKbXnGgw9m",
        "outputId": "076e0831-8953-4e83-b9ee-2fee24c1e6fb"
      },
      "execution_count": 15,
      "outputs": [
        {
          "output_type": "stream",
          "name": "stdout",
          "text": [
            "total: 17007 time: 1.17 sec\n",
            "CPU times: user 655 ms, sys: 209 ms, total: 864 ms\n",
            "Wall time: 1.27 s\n"
          ]
        }
      ]
    },
    {
      "cell_type": "markdown",
      "source": [
        "検索結果を確認します。"
      ],
      "metadata": {
        "id": "9WtqrhVFve2v"
      }
    },
    {
      "cell_type": "code",
      "source": [
        "res.docs[1]"
      ],
      "metadata": {
        "colab": {
          "base_uri": "https://localhost:8080/"
        },
        "id": "UcaPlDkNdG24",
        "outputId": "657317ab-ca9f-4b7d-d754-8d372bd078aa"
      },
      "execution_count": 16,
      "outputs": [
        {
          "output_type": "execute_result",
          "data": {
            "text/plain": [
              "Document {'id': 'doc_226353', 'payload': None, 'body': 'エ イ ジ 、 エ ー ジ 日 本 語 . 人 名 . 日 本 語 の 男 性 名 で 用 い ら れ る 。', 'title': 'エイジ'}"
            ]
          },
          "metadata": {},
          "execution_count": 16
        }
      ]
    },
    {
      "cell_type": "markdown",
      "source": [
        "検索対象をbodyフィールドのみにして検索。"
      ],
      "metadata": {
        "id": "nI3-ozx-vsIn"
      }
    },
    {
      "cell_type": "code",
      "source": [
        "%%time\n",
        "query = Query('@body:\"日 本 語\"').in_order().slop(0).paging(0, 20000)\n",
        "res = client.search(query)\n",
        "print('total:', res.total, 'time:', '{:.2f} sec'.format(res.duration / 1000))"
      ],
      "metadata": {
        "colab": {
          "base_uri": "https://localhost:8080/"
        },
        "id": "ZYGDmp1MdGvE",
        "outputId": "efd8a714-d5d9-48d2-947e-ab93e6ce4241"
      },
      "execution_count": 17,
      "outputs": [
        {
          "output_type": "stream",
          "name": "stdout",
          "text": [
            "total: 17007 time: 1.15 sec\n",
            "CPU times: user 856 ms, sys: 152 ms, total: 1.01 s\n",
            "Wall time: 1.41 s\n"
          ]
        }
      ]
    },
    {
      "cell_type": "markdown",
      "source": [
        "あまり変わりません。"
      ],
      "metadata": {
        "id": "kRvuIgoFv5yd"
      }
    },
    {
      "cell_type": "markdown",
      "source": [
        "次に、検索結果のコンテンツを取得せず、idだけを取得する検索。"
      ],
      "metadata": {
        "id": "yZShjvXlv-38"
      }
    },
    {
      "cell_type": "code",
      "source": [
        "%%time\n",
        "query = Query('@body:\"日 本 語\"').in_order().slop(0).no_content().paging(0, 20000)\n",
        "res = client.search(query)\n",
        "print('total:', res.total, 'time:', '{:.2f} sec'.format(res.duration / 1000))"
      ],
      "metadata": {
        "id": "B8mPkTimihdS",
        "colab": {
          "base_uri": "https://localhost:8080/"
        },
        "outputId": "64420622-6387-4e87-d4a3-c4aac1e7e436"
      },
      "execution_count": 18,
      "outputs": [
        {
          "output_type": "stream",
          "name": "stdout",
          "text": [
            "total: 17007 time: 0.23 sec\n",
            "CPU times: user 92.3 ms, sys: 46.1 ms, total: 138 ms\n",
            "Wall time: 325 ms\n"
          ]
        }
      ]
    },
    {
      "cell_type": "markdown",
      "source": [
        "非常に速い。"
      ],
      "metadata": {
        "id": "BzE8q4IKwKQf"
      }
    },
    {
      "cell_type": "markdown",
      "source": [
        "検索結果を確認します。idのみが取れているのが確認できます。"
      ],
      "metadata": {
        "id": "eQppPKPNwQkF"
      }
    },
    {
      "cell_type": "code",
      "source": [
        "res.docs[1]"
      ],
      "metadata": {
        "id": "MCiETtAmihWh",
        "colab": {
          "base_uri": "https://localhost:8080/"
        },
        "outputId": "52542a67-01ea-46f3-8807-009255010279"
      },
      "execution_count": 19,
      "outputs": [
        {
          "output_type": "execute_result",
          "data": {
            "text/plain": [
              "Document {'id': 'doc_226353', 'payload': None}"
            ]
          },
          "metadata": {},
          "execution_count": 19
        }
      ]
    },
    {
      "cell_type": "markdown",
      "source": [
        "## Redisの停止"
      ],
      "metadata": {
        "id": "2Vt4rORrwya-"
      }
    },
    {
      "cell_type": "code",
      "source": [
        "!service redis-server stop"
      ],
      "metadata": {
        "id": "l9FWnW9AihS4",
        "colab": {
          "base_uri": "https://localhost:8080/"
        },
        "outputId": "e4761ae7-158f-4982-911f-a6fa45560277"
      },
      "execution_count": 20,
      "outputs": [
        {
          "output_type": "stream",
          "name": "stdout",
          "text": [
            "Stopping redis-server: redis-server.\n"
          ]
        }
      ]
    }
  ]
}